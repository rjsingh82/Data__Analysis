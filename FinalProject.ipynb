{
 "cells": [
  {
   "cell_type": "markdown",
   "metadata": {},
   "source": [
    "# Group\n",
    "  Belal Aboabdo A1234598\n",
    "  \n",
    "  Kevin Gong A11334214\n",
    "  \n",
    "  Andrew Hwang A12060931\n",
    "  \n",
    "  Momin Khan A11625774\n",
    "  \n",
    "  Ranvijay Singh A10814334\n",
    "  \n",
    "  Guanliang Yan A12267638"
   ]
  },
  {
   "cell_type": "markdown",
   "metadata": {},
   "source": [
    "# Introduction\n",
    "  Are diseases distributed differently across different cities within San Diego County and are their frequencies dependent on socioeconomic backgrounds?\n",
    "  \n",
    "  We know that research have shown that socioeconomic backgrounds have tremendous impacts on education level, crime rates, voting turnouts, and access to social welfare. For our project, we want to see specifically within San Diego County how common diseases are also affected by income.\n",
    "  \n",
    "  Our hypothesis was that there is no correlation between socioeconomic statuses and the frequency of diseases across San Diego County. We limited our observations to the top 3-5 most commonly occuring diseases in each respective zip code in San Diego County.\n",
    "  \n",
    "# Background\n",
    "  Disease is an issue that has affected all of us personally and/or people close to us. One of the biggest weaknesses of the current disease diagnostic system is the insufficient emphasis placed on disease prevention. Often times, many diseases are initially treatable but are left undiagnosed and untreated until it is too late. In an increasingly data-driven society, we aim to utilize the skills we have learned in this class towards the ultimate goal of improving the detection and treatment of the most prevalent diseases that afflict our present day world. If we could prove that correlations exist between socioeconomic statuses and the frequency of certain diseases, we can allow healthcare professionals to focus more effort and energy on detecting and treating certain diseases in areas with correlated socioeconomic statuses.\n",
    "  \n",
    "  Similar studies have been done in the past to understand the relationship between certain diseases and its treatment in poverty-stricken areas. A study in 2015 examined Cutaneous Leishmaniasis —— a notable poverty-associated disease —— and how it was treated among patients of different socioeconoimc statuses. Patients at a dermatology clinic at Imam Reza Hospital were classified as low, medium, or high socioeconomic status and provided treatment for the disease over the course of the following year. The study concluded that poverty did seem to prolong the course of the disease.\n",
    "  \n",
    "  Another study in 2014 explored the relationship between cardiovascular diseases and socioeconomic status in a retirement community in Shanghai. Other factors such as education level, marital status, annual income, etc. were taken into account. Using a logistical regressional model, the study looked to see if socioeconomic status correlated to increased chances of cardiovascular issues at all. The study concluded that there was no direct correlation between the two. Furthermore, different socioeconomic groups received different intervention plans because each group exhibited different risks.\n"
   ]
  },
  {
   "cell_type": "markdown",
   "metadata": {},
   "source": [
    "# Data Description\n",
    "   The data used in this notebook were taken from government websites such as the IRS website. \n",
    "    \n",
    "   The first set of data is from the CDC's 500 cities: local data for better health dataset which includes data from 2013 and 2014. The set of data include measures such as population, Geolocation, city name. Dieseases are split inot  3 sub-categories of health related data including unhealthy behaviors, prevention, and health outcomes. The Data value for each disease is calculated by dividing the number of respondents aged ≥18 years who report having been told by a doctor, nurse, or other health professional that they had a given disease by respondents aged ≥18 years who answered “yes” or “no” to the following question: “Have you ever been told by a doctor, nurse, or other health professional that you have some form of X disease?” (excluding those who refused to answer, had a missing answer, or answered “don’t know/not sure”). \n",
    "    \n",
    "   The second set of data is from a set of SOI (Statistics of data) tax return statistics from the years 1998, 2001 and 2004 through 2014. We will be using the one from 2014 to match the health data. The data include categories such as number of households, wages and salaries, interest received, adjusted gross income etc. We're really interested in the household income here which we will use to test for relations."
   ]
  },
  {
   "cell_type": "code",
   "execution_count": 2,
   "metadata": {
    "collapsed": true
   },
   "outputs": [],
   "source": [
    "%matplotlib inline\n",
    "\n",
    "import pandas as pd\n",
    "import numpy as np\n",
    "import matplotlib.pyplot as plt\n",
    "import scipy as sp\n",
    "import geocoder\n",
    "import time\n",
    "from scipy.stats import ttest_ind\n",
    "from scipy.stats import norm\n",
    "import statsmodels.api as sm\n",
    "import patsy"
   ]
  },
  {
   "cell_type": "markdown",
   "metadata": {},
   "source": [
    "# Data Scrubbing\n",
    "   We cleaned our original data set removing all data points outside of California then we limited the data to only include data within the perimeter of San Deigo County based off Geolocation. Lastly we used Google Map's geocoder API to request the zipcode of each Geolocation\n"
   ]
  },
  {
   "cell_type": "code",
   "execution_count": 3,
   "metadata": {
    "collapsed": false
   },
   "outputs": [],
   "source": [
    "df = pd.read_csv('SD_County_Data.csv',encoding = 'latin-1')"
   ]
  },
  {
   "cell_type": "code",
   "execution_count": null,
   "metadata": {
    "collapsed": true
   },
   "outputs": [],
   "source": [
    "#Did this locally because Original Data set was over 25mb\n",
    "df = df[df['StateAbbr'] == 'CA']\n",
    "df.to_csv('CA_Cities_Data.csv')"
   ]
  },
  {
   "cell_type": "code",
   "execution_count": null,
   "metadata": {
    "collapsed": true
   },
   "outputs": [],
   "source": [
    "#Did this locally because Original Data set was over 25mb and took too long to run\n",
    "#Bbox Border of LongLat for San Diego County\n",
    "northEast = 33.5050302, -116.0809399\n",
    "southWest = 32.5342855, -117.5959108\n",
    "\n",
    "#Convert Geolocation string to tuple to be used by Geocoder\n",
    "array = []\n",
    "for location in df['GeoLocation']:\n",
    "    lat,long1 = location[1:len(location)-1].split(\",\")\n",
    "    latLONG = (float(lat),float(long1))\n",
    "    array.append(latLONG)\n",
    "df['GeoLocation'] = array\n",
    "#Limit data to all data within San Diego County\n",
    "df2 = df[(df['GeoLocation'] >= southWest) & (df['GeoLocation'] <= northEast)]\n",
    "df2.to_csv('San_Diego_Cities_Data.csv')"
   ]
  },
  {
   "cell_type": "code",
   "execution_count": null,
   "metadata": {
    "collapsed": true
   },
   "outputs": [],
   "source": [
    "#Did this locally because Original Data set was over 25mb and took too long to run\n",
    "#Use Google Maps Geocoder API to match to reverse the Geolocation and return its Zipcode\n",
    "array = []\n",
    "for latLong in df2['GeoLocation']:\n",
    "    g = geocoder.google(latLong, method='reverse')\n",
    "    array.append(g.postal)\n",
    "    if g.status == \"OVER_QUERY_LIMIT\":\n",
    "        time.sleep(2)\n",
    "        continue\n",
    "df2['ZIP_CODE'] = array"
   ]
  },
  {
   "cell_type": "markdown",
   "metadata": {},
   "source": [
    "   Here we used Google Maps Geocoder API to match the Geolocation and return the zipcodes which we thought would be the most efficient way to merge the disease data and the income data to analyze the correlation on relevant and matching locations."
   ]
  },
  {
   "cell_type": "code",
   "execution_count": 4,
   "metadata": {
    "collapsed": false,
    "scrolled": true
   },
   "outputs": [
    {
     "data": {
      "text/html": [
       "<div>\n",
       "<table border=\"1\" class=\"dataframe\">\n",
       "  <thead>\n",
       "    <tr style=\"text-align: right;\">\n",
       "      <th></th>\n",
       "      <th>Unnamed: 0</th>\n",
       "      <th>Unnamed: 0.1</th>\n",
       "      <th>Unnamed: 0.1.1</th>\n",
       "      <th>Year</th>\n",
       "      <th>StateAbbr</th>\n",
       "      <th>StateDesc</th>\n",
       "      <th>CityName</th>\n",
       "      <th>GeographicLevel</th>\n",
       "      <th>DataSource</th>\n",
       "      <th>Category</th>\n",
       "      <th>...</th>\n",
       "      <th>Data_Value_Footnote_Symbol</th>\n",
       "      <th>Data_Value_Footnote</th>\n",
       "      <th>PopulationCount</th>\n",
       "      <th>GeoLocation</th>\n",
       "      <th>CategoryID</th>\n",
       "      <th>MeasureId</th>\n",
       "      <th>CityFIPS</th>\n",
       "      <th>TractFIPS</th>\n",
       "      <th>Short_Question_Text</th>\n",
       "      <th>ZIP_CODE</th>\n",
       "    </tr>\n",
       "  </thead>\n",
       "  <tbody>\n",
       "    <tr>\n",
       "      <th>0</th>\n",
       "      <td>0</td>\n",
       "      <td>10071</td>\n",
       "      <td>55673</td>\n",
       "      <td>2014</td>\n",
       "      <td>CA</td>\n",
       "      <td>California</td>\n",
       "      <td>Carlsbad</td>\n",
       "      <td>City</td>\n",
       "      <td>BRFSS</td>\n",
       "      <td>Prevention</td>\n",
       "      <td>...</td>\n",
       "      <td>NaN</td>\n",
       "      <td>NaN</td>\n",
       "      <td>105328</td>\n",
       "      <td>(33.1248051026, -117.282903303)</td>\n",
       "      <td>PREVENT</td>\n",
       "      <td>ACCESS2</td>\n",
       "      <td>611194</td>\n",
       "      <td>NaN</td>\n",
       "      <td>Health Insurance</td>\n",
       "      <td>92011.0</td>\n",
       "    </tr>\n",
       "    <tr>\n",
       "      <th>1</th>\n",
       "      <td>1</td>\n",
       "      <td>10072</td>\n",
       "      <td>55674</td>\n",
       "      <td>2014</td>\n",
       "      <td>CA</td>\n",
       "      <td>California</td>\n",
       "      <td>Carlsbad</td>\n",
       "      <td>City</td>\n",
       "      <td>BRFSS</td>\n",
       "      <td>Prevention</td>\n",
       "      <td>...</td>\n",
       "      <td>NaN</td>\n",
       "      <td>NaN</td>\n",
       "      <td>105328</td>\n",
       "      <td>(33.1248051026, -117.282903303)</td>\n",
       "      <td>PREVENT</td>\n",
       "      <td>ACCESS2</td>\n",
       "      <td>611194</td>\n",
       "      <td>NaN</td>\n",
       "      <td>Health Insurance</td>\n",
       "      <td>92011.0</td>\n",
       "    </tr>\n",
       "    <tr>\n",
       "      <th>2</th>\n",
       "      <td>2</td>\n",
       "      <td>10073</td>\n",
       "      <td>55675</td>\n",
       "      <td>2014</td>\n",
       "      <td>CA</td>\n",
       "      <td>California</td>\n",
       "      <td>Carlsbad</td>\n",
       "      <td>Census Tract</td>\n",
       "      <td>BRFSS</td>\n",
       "      <td>Prevention</td>\n",
       "      <td>...</td>\n",
       "      <td>NaN</td>\n",
       "      <td>NaN</td>\n",
       "      <td>76</td>\n",
       "      <td>(33.0658776539, -117.246694474)</td>\n",
       "      <td>PREVENT</td>\n",
       "      <td>ACCESS2</td>\n",
       "      <td>611194</td>\n",
       "      <td>6.073017e+09</td>\n",
       "      <td>Health Insurance</td>\n",
       "      <td>92009.0</td>\n",
       "    </tr>\n",
       "    <tr>\n",
       "      <th>3</th>\n",
       "      <td>3</td>\n",
       "      <td>10074</td>\n",
       "      <td>55676</td>\n",
       "      <td>2014</td>\n",
       "      <td>CA</td>\n",
       "      <td>California</td>\n",
       "      <td>Carlsbad</td>\n",
       "      <td>Census Tract</td>\n",
       "      <td>BRFSS</td>\n",
       "      <td>Prevention</td>\n",
       "      <td>...</td>\n",
       "      <td>NaN</td>\n",
       "      <td>NaN</td>\n",
       "      <td>6650</td>\n",
       "      <td>(33.0735205157, -117.232247215)</td>\n",
       "      <td>PREVENT</td>\n",
       "      <td>ACCESS2</td>\n",
       "      <td>611194</td>\n",
       "      <td>6.073017e+09</td>\n",
       "      <td>Health Insurance</td>\n",
       "      <td>92009.0</td>\n",
       "    </tr>\n",
       "    <tr>\n",
       "      <th>4</th>\n",
       "      <td>4</td>\n",
       "      <td>10075</td>\n",
       "      <td>55677</td>\n",
       "      <td>2014</td>\n",
       "      <td>CA</td>\n",
       "      <td>California</td>\n",
       "      <td>Carlsbad</td>\n",
       "      <td>Census Tract</td>\n",
       "      <td>BRFSS</td>\n",
       "      <td>Prevention</td>\n",
       "      <td>...</td>\n",
       "      <td>NaN</td>\n",
       "      <td>NaN</td>\n",
       "      <td>965</td>\n",
       "      <td>(33.0836282621, -117.222535249)</td>\n",
       "      <td>PREVENT</td>\n",
       "      <td>ACCESS2</td>\n",
       "      <td>611194</td>\n",
       "      <td>6.073017e+09</td>\n",
       "      <td>Health Insurance</td>\n",
       "      <td>92009.0</td>\n",
       "    </tr>\n",
       "    <tr>\n",
       "      <th>5</th>\n",
       "      <td>5</td>\n",
       "      <td>10076</td>\n",
       "      <td>55678</td>\n",
       "      <td>2014</td>\n",
       "      <td>CA</td>\n",
       "      <td>California</td>\n",
       "      <td>Carlsbad</td>\n",
       "      <td>Census Tract</td>\n",
       "      <td>BRFSS</td>\n",
       "      <td>Prevention</td>\n",
       "      <td>...</td>\n",
       "      <td>NaN</td>\n",
       "      <td>NaN</td>\n",
       "      <td>1006</td>\n",
       "      <td>(33.0817510886, -117.27828232)</td>\n",
       "      <td>PREVENT</td>\n",
       "      <td>ACCESS2</td>\n",
       "      <td>611194</td>\n",
       "      <td>6.073018e+09</td>\n",
       "      <td>Health Insurance</td>\n",
       "      <td>92024.0</td>\n",
       "    </tr>\n",
       "    <tr>\n",
       "      <th>6</th>\n",
       "      <td>6</td>\n",
       "      <td>10077</td>\n",
       "      <td>55679</td>\n",
       "      <td>2014</td>\n",
       "      <td>CA</td>\n",
       "      <td>California</td>\n",
       "      <td>Carlsbad</td>\n",
       "      <td>Census Tract</td>\n",
       "      <td>BRFSS</td>\n",
       "      <td>Prevention</td>\n",
       "      <td>...</td>\n",
       "      <td>*</td>\n",
       "      <td>Estimates suppressed for population less than 50</td>\n",
       "      <td>2</td>\n",
       "      <td>(33.0860339621, -117.30832448)</td>\n",
       "      <td>PREVENT</td>\n",
       "      <td>ACCESS2</td>\n",
       "      <td>611194</td>\n",
       "      <td>6.073018e+09</td>\n",
       "      <td>Health Insurance</td>\n",
       "      <td>92024.0</td>\n",
       "    </tr>\n",
       "    <tr>\n",
       "      <th>7</th>\n",
       "      <td>7</td>\n",
       "      <td>10078</td>\n",
       "      <td>55680</td>\n",
       "      <td>2014</td>\n",
       "      <td>CA</td>\n",
       "      <td>California</td>\n",
       "      <td>Carlsbad</td>\n",
       "      <td>Census Tract</td>\n",
       "      <td>BRFSS</td>\n",
       "      <td>Prevention</td>\n",
       "      <td>...</td>\n",
       "      <td>NaN</td>\n",
       "      <td>NaN</td>\n",
       "      <td>6539</td>\n",
       "      <td>(33.1700115582, -117.334344533)</td>\n",
       "      <td>PREVENT</td>\n",
       "      <td>ACCESS2</td>\n",
       "      <td>611194</td>\n",
       "      <td>6.073018e+09</td>\n",
       "      <td>Health Insurance</td>\n",
       "      <td>92008.0</td>\n",
       "    </tr>\n",
       "    <tr>\n",
       "      <th>8</th>\n",
       "      <td>8</td>\n",
       "      <td>10079</td>\n",
       "      <td>55681</td>\n",
       "      <td>2014</td>\n",
       "      <td>CA</td>\n",
       "      <td>California</td>\n",
       "      <td>Carlsbad</td>\n",
       "      <td>Census Tract</td>\n",
       "      <td>BRFSS</td>\n",
       "      <td>Prevention</td>\n",
       "      <td>...</td>\n",
       "      <td>NaN</td>\n",
       "      <td>NaN</td>\n",
       "      <td>5975</td>\n",
       "      <td>(33.0978405555, -117.288413926)</td>\n",
       "      <td>PREVENT</td>\n",
       "      <td>ACCESS2</td>\n",
       "      <td>611194</td>\n",
       "      <td>6.073018e+09</td>\n",
       "      <td>Health Insurance</td>\n",
       "      <td>92011.0</td>\n",
       "    </tr>\n",
       "    <tr>\n",
       "      <th>9</th>\n",
       "      <td>9</td>\n",
       "      <td>10080</td>\n",
       "      <td>55682</td>\n",
       "      <td>2014</td>\n",
       "      <td>CA</td>\n",
       "      <td>California</td>\n",
       "      <td>Carlsbad</td>\n",
       "      <td>Census Tract</td>\n",
       "      <td>BRFSS</td>\n",
       "      <td>Prevention</td>\n",
       "      <td>...</td>\n",
       "      <td>NaN</td>\n",
       "      <td>NaN</td>\n",
       "      <td>2293</td>\n",
       "      <td>(33.1575403872, -117.326698364)</td>\n",
       "      <td>PREVENT</td>\n",
       "      <td>ACCESS2</td>\n",
       "      <td>611194</td>\n",
       "      <td>6.073018e+09</td>\n",
       "      <td>Health Insurance</td>\n",
       "      <td>92008.0</td>\n",
       "    </tr>\n",
       "  </tbody>\n",
       "</table>\n",
       "<p>10 rows × 28 columns</p>\n",
       "</div>"
      ],
      "text/plain": [
       "   Unnamed: 0  Unnamed: 0.1  Unnamed: 0.1.1  Year StateAbbr   StateDesc  \\\n",
       "0           0         10071           55673  2014        CA  California   \n",
       "1           1         10072           55674  2014        CA  California   \n",
       "2           2         10073           55675  2014        CA  California   \n",
       "3           3         10074           55676  2014        CA  California   \n",
       "4           4         10075           55677  2014        CA  California   \n",
       "5           5         10076           55678  2014        CA  California   \n",
       "6           6         10077           55679  2014        CA  California   \n",
       "7           7         10078           55680  2014        CA  California   \n",
       "8           8         10079           55681  2014        CA  California   \n",
       "9           9         10080           55682  2014        CA  California   \n",
       "\n",
       "   CityName GeographicLevel DataSource    Category   ...     \\\n",
       "0  Carlsbad            City      BRFSS  Prevention   ...      \n",
       "1  Carlsbad            City      BRFSS  Prevention   ...      \n",
       "2  Carlsbad    Census Tract      BRFSS  Prevention   ...      \n",
       "3  Carlsbad    Census Tract      BRFSS  Prevention   ...      \n",
       "4  Carlsbad    Census Tract      BRFSS  Prevention   ...      \n",
       "5  Carlsbad    Census Tract      BRFSS  Prevention   ...      \n",
       "6  Carlsbad    Census Tract      BRFSS  Prevention   ...      \n",
       "7  Carlsbad    Census Tract      BRFSS  Prevention   ...      \n",
       "8  Carlsbad    Census Tract      BRFSS  Prevention   ...      \n",
       "9  Carlsbad    Census Tract      BRFSS  Prevention   ...      \n",
       "\n",
       "  Data_Value_Footnote_Symbol  \\\n",
       "0                        NaN   \n",
       "1                        NaN   \n",
       "2                        NaN   \n",
       "3                        NaN   \n",
       "4                        NaN   \n",
       "5                        NaN   \n",
       "6                          *   \n",
       "7                        NaN   \n",
       "8                        NaN   \n",
       "9                        NaN   \n",
       "\n",
       "                                Data_Value_Footnote PopulationCount  \\\n",
       "0                                               NaN          105328   \n",
       "1                                               NaN          105328   \n",
       "2                                               NaN              76   \n",
       "3                                               NaN            6650   \n",
       "4                                               NaN             965   \n",
       "5                                               NaN            1006   \n",
       "6  Estimates suppressed for population less than 50               2   \n",
       "7                                               NaN            6539   \n",
       "8                                               NaN            5975   \n",
       "9                                               NaN            2293   \n",
       "\n",
       "                       GeoLocation CategoryID  MeasureId  CityFIPS  \\\n",
       "0  (33.1248051026, -117.282903303)    PREVENT    ACCESS2    611194   \n",
       "1  (33.1248051026, -117.282903303)    PREVENT    ACCESS2    611194   \n",
       "2  (33.0658776539, -117.246694474)    PREVENT    ACCESS2    611194   \n",
       "3  (33.0735205157, -117.232247215)    PREVENT    ACCESS2    611194   \n",
       "4  (33.0836282621, -117.222535249)    PREVENT    ACCESS2    611194   \n",
       "5   (33.0817510886, -117.27828232)    PREVENT    ACCESS2    611194   \n",
       "6   (33.0860339621, -117.30832448)    PREVENT    ACCESS2    611194   \n",
       "7  (33.1700115582, -117.334344533)    PREVENT    ACCESS2    611194   \n",
       "8  (33.0978405555, -117.288413926)    PREVENT    ACCESS2    611194   \n",
       "9  (33.1575403872, -117.326698364)    PREVENT    ACCESS2    611194   \n",
       "\n",
       "      TractFIPS Short_Question_Text ZIP_CODE  \n",
       "0           NaN    Health Insurance  92011.0  \n",
       "1           NaN    Health Insurance  92011.0  \n",
       "2  6.073017e+09    Health Insurance  92009.0  \n",
       "3  6.073017e+09    Health Insurance  92009.0  \n",
       "4  6.073017e+09    Health Insurance  92009.0  \n",
       "5  6.073018e+09    Health Insurance  92024.0  \n",
       "6  6.073018e+09    Health Insurance  92024.0  \n",
       "7  6.073018e+09    Health Insurance  92008.0  \n",
       "8  6.073018e+09    Health Insurance  92011.0  \n",
       "9  6.073018e+09    Health Insurance  92008.0  \n",
       "\n",
       "[10 rows x 28 columns]"
      ]
     },
     "execution_count": 4,
     "metadata": {},
     "output_type": "execute_result"
    }
   ],
   "source": [
    "df.head(10)"
   ]
  },
  {
   "cell_type": "code",
   "execution_count": 6,
   "metadata": {
    "collapsed": false
   },
   "outputs": [
    {
     "data": {
      "text/html": [
       "<div>\n",
       "<table border=\"1\" class=\"dataframe\">\n",
       "  <thead>\n",
       "    <tr style=\"text-align: right;\">\n",
       "      <th></th>\n",
       "      <th>CityName</th>\n",
       "      <th>Category</th>\n",
       "      <th>DataValueTypeID</th>\n",
       "      <th>Data_Value_Type</th>\n",
       "      <th>Data_Value</th>\n",
       "      <th>Low_Confidence_Limit</th>\n",
       "      <th>High_Confidence_Limit</th>\n",
       "      <th>PopulationCount</th>\n",
       "      <th>GeoLocation</th>\n",
       "      <th>Short_Question_Text</th>\n",
       "      <th>ZIP_CODE</th>\n",
       "      <th>Year</th>\n",
       "    </tr>\n",
       "  </thead>\n",
       "  <tbody>\n",
       "    <tr>\n",
       "      <th>0</th>\n",
       "      <td>Carlsbad</td>\n",
       "      <td>Prevention</td>\n",
       "      <td>AgeAdjPrv</td>\n",
       "      <td>Age-adjusted prevalence</td>\n",
       "      <td>8.8</td>\n",
       "      <td>8.3</td>\n",
       "      <td>9.2</td>\n",
       "      <td>105328</td>\n",
       "      <td>(33.1248051026, -117.282903303)</td>\n",
       "      <td>Health Insurance</td>\n",
       "      <td>92011.0</td>\n",
       "      <td>2014</td>\n",
       "    </tr>\n",
       "    <tr>\n",
       "      <th>1</th>\n",
       "      <td>Carlsbad</td>\n",
       "      <td>Prevention</td>\n",
       "      <td>CrdPrv</td>\n",
       "      <td>Crude prevalence</td>\n",
       "      <td>8.9</td>\n",
       "      <td>8.4</td>\n",
       "      <td>9.3</td>\n",
       "      <td>105328</td>\n",
       "      <td>(33.1248051026, -117.282903303)</td>\n",
       "      <td>Health Insurance</td>\n",
       "      <td>92011.0</td>\n",
       "      <td>2014</td>\n",
       "    </tr>\n",
       "    <tr>\n",
       "      <th>2</th>\n",
       "      <td>Carlsbad</td>\n",
       "      <td>Prevention</td>\n",
       "      <td>CrdPrv</td>\n",
       "      <td>Crude prevalence</td>\n",
       "      <td>5.9</td>\n",
       "      <td>4.4</td>\n",
       "      <td>7.8</td>\n",
       "      <td>76</td>\n",
       "      <td>(33.0658776539, -117.246694474)</td>\n",
       "      <td>Health Insurance</td>\n",
       "      <td>92009.0</td>\n",
       "      <td>2014</td>\n",
       "    </tr>\n",
       "    <tr>\n",
       "      <th>3</th>\n",
       "      <td>Carlsbad</td>\n",
       "      <td>Prevention</td>\n",
       "      <td>CrdPrv</td>\n",
       "      <td>Crude prevalence</td>\n",
       "      <td>8.1</td>\n",
       "      <td>6.7</td>\n",
       "      <td>10.0</td>\n",
       "      <td>6650</td>\n",
       "      <td>(33.0735205157, -117.232247215)</td>\n",
       "      <td>Health Insurance</td>\n",
       "      <td>92009.0</td>\n",
       "      <td>2014</td>\n",
       "    </tr>\n",
       "    <tr>\n",
       "      <th>4</th>\n",
       "      <td>Carlsbad</td>\n",
       "      <td>Prevention</td>\n",
       "      <td>CrdPrv</td>\n",
       "      <td>Crude prevalence</td>\n",
       "      <td>9.6</td>\n",
       "      <td>8.1</td>\n",
       "      <td>11.5</td>\n",
       "      <td>965</td>\n",
       "      <td>(33.0836282621, -117.222535249)</td>\n",
       "      <td>Health Insurance</td>\n",
       "      <td>92009.0</td>\n",
       "      <td>2014</td>\n",
       "    </tr>\n",
       "    <tr>\n",
       "      <th>5</th>\n",
       "      <td>Carlsbad</td>\n",
       "      <td>Prevention</td>\n",
       "      <td>CrdPrv</td>\n",
       "      <td>Crude prevalence</td>\n",
       "      <td>7.2</td>\n",
       "      <td>4.9</td>\n",
       "      <td>10.5</td>\n",
       "      <td>1006</td>\n",
       "      <td>(33.0817510886, -117.27828232)</td>\n",
       "      <td>Health Insurance</td>\n",
       "      <td>92024.0</td>\n",
       "      <td>2014</td>\n",
       "    </tr>\n",
       "    <tr>\n",
       "      <th>6</th>\n",
       "      <td>Carlsbad</td>\n",
       "      <td>Prevention</td>\n",
       "      <td>CrdPrv</td>\n",
       "      <td>Crude prevalence</td>\n",
       "      <td>NaN</td>\n",
       "      <td>NaN</td>\n",
       "      <td>NaN</td>\n",
       "      <td>2</td>\n",
       "      <td>(33.0860339621, -117.30832448)</td>\n",
       "      <td>Health Insurance</td>\n",
       "      <td>92024.0</td>\n",
       "      <td>2014</td>\n",
       "    </tr>\n",
       "    <tr>\n",
       "      <th>7</th>\n",
       "      <td>Carlsbad</td>\n",
       "      <td>Prevention</td>\n",
       "      <td>CrdPrv</td>\n",
       "      <td>Crude prevalence</td>\n",
       "      <td>9.2</td>\n",
       "      <td>7.5</td>\n",
       "      <td>11.1</td>\n",
       "      <td>6539</td>\n",
       "      <td>(33.1700115582, -117.334344533)</td>\n",
       "      <td>Health Insurance</td>\n",
       "      <td>92008.0</td>\n",
       "      <td>2014</td>\n",
       "    </tr>\n",
       "    <tr>\n",
       "      <th>8</th>\n",
       "      <td>Carlsbad</td>\n",
       "      <td>Prevention</td>\n",
       "      <td>CrdPrv</td>\n",
       "      <td>Crude prevalence</td>\n",
       "      <td>6.7</td>\n",
       "      <td>5.3</td>\n",
       "      <td>8.3</td>\n",
       "      <td>5975</td>\n",
       "      <td>(33.0978405555, -117.288413926)</td>\n",
       "      <td>Health Insurance</td>\n",
       "      <td>92011.0</td>\n",
       "      <td>2014</td>\n",
       "    </tr>\n",
       "    <tr>\n",
       "      <th>9</th>\n",
       "      <td>Carlsbad</td>\n",
       "      <td>Prevention</td>\n",
       "      <td>CrdPrv</td>\n",
       "      <td>Crude prevalence</td>\n",
       "      <td>10.1</td>\n",
       "      <td>8.1</td>\n",
       "      <td>12.4</td>\n",
       "      <td>2293</td>\n",
       "      <td>(33.1575403872, -117.326698364)</td>\n",
       "      <td>Health Insurance</td>\n",
       "      <td>92008.0</td>\n",
       "      <td>2014</td>\n",
       "    </tr>\n",
       "  </tbody>\n",
       "</table>\n",
       "</div>"
      ],
      "text/plain": [
       "   CityName    Category DataValueTypeID          Data_Value_Type  Data_Value  \\\n",
       "0  Carlsbad  Prevention       AgeAdjPrv  Age-adjusted prevalence         8.8   \n",
       "1  Carlsbad  Prevention          CrdPrv         Crude prevalence         8.9   \n",
       "2  Carlsbad  Prevention          CrdPrv         Crude prevalence         5.9   \n",
       "3  Carlsbad  Prevention          CrdPrv         Crude prevalence         8.1   \n",
       "4  Carlsbad  Prevention          CrdPrv         Crude prevalence         9.6   \n",
       "5  Carlsbad  Prevention          CrdPrv         Crude prevalence         7.2   \n",
       "6  Carlsbad  Prevention          CrdPrv         Crude prevalence         NaN   \n",
       "7  Carlsbad  Prevention          CrdPrv         Crude prevalence         9.2   \n",
       "8  Carlsbad  Prevention          CrdPrv         Crude prevalence         6.7   \n",
       "9  Carlsbad  Prevention          CrdPrv         Crude prevalence        10.1   \n",
       "\n",
       "   Low_Confidence_Limit  High_Confidence_Limit  PopulationCount  \\\n",
       "0                   8.3                    9.2           105328   \n",
       "1                   8.4                    9.3           105328   \n",
       "2                   4.4                    7.8               76   \n",
       "3                   6.7                   10.0             6650   \n",
       "4                   8.1                   11.5              965   \n",
       "5                   4.9                   10.5             1006   \n",
       "6                   NaN                    NaN                2   \n",
       "7                   7.5                   11.1             6539   \n",
       "8                   5.3                    8.3             5975   \n",
       "9                   8.1                   12.4             2293   \n",
       "\n",
       "                       GeoLocation Short_Question_Text  ZIP_CODE  Year  \n",
       "0  (33.1248051026, -117.282903303)    Health Insurance   92011.0  2014  \n",
       "1  (33.1248051026, -117.282903303)    Health Insurance   92011.0  2014  \n",
       "2  (33.0658776539, -117.246694474)    Health Insurance   92009.0  2014  \n",
       "3  (33.0735205157, -117.232247215)    Health Insurance   92009.0  2014  \n",
       "4  (33.0836282621, -117.222535249)    Health Insurance   92009.0  2014  \n",
       "5   (33.0817510886, -117.27828232)    Health Insurance   92024.0  2014  \n",
       "6   (33.0860339621, -117.30832448)    Health Insurance   92024.0  2014  \n",
       "7  (33.1700115582, -117.334344533)    Health Insurance   92008.0  2014  \n",
       "8  (33.0978405555, -117.288413926)    Health Insurance   92011.0  2014  \n",
       "9  (33.1575403872, -117.326698364)    Health Insurance   92008.0  2014  "
      ]
     },
     "execution_count": 6,
     "metadata": {},
     "output_type": "execute_result"
    }
   ],
   "source": [
    "#Drop unncessary columns \n",
    "df = df[['CityName','Category','DataValueTypeID','Data_Value_Type','Data_Value','Low_Confidence_Limit','High_Confidence_Limit','PopulationCount','GeoLocation','Short_Question_Text','ZIP_CODE', 'Year']]\n",
    "df.head(10)"
   ]
  },
  {
   "cell_type": "code",
   "execution_count": 7,
   "metadata": {
    "collapsed": true
   },
   "outputs": [],
   "source": [
    "#Drop null rows\n",
    "df = df.dropna()"
   ]
  },
  {
   "cell_type": "code",
   "execution_count": 8,
   "metadata": {
    "collapsed": false
   },
   "outputs": [],
   "source": [
    "#Convert zipcode to int for later use\n",
    "df['ZIP_CODE'] = df.loc[:,['ZIP_CODE']].astype('int32')"
   ]
  },
  {
   "cell_type": "code",
   "execution_count": 9,
   "metadata": {
    "collapsed": false
   },
   "outputs": [
    {
     "data": {
      "text/html": [
       "<div>\n",
       "<table border=\"1\" class=\"dataframe\">\n",
       "  <thead>\n",
       "    <tr style=\"text-align: right;\">\n",
       "      <th></th>\n",
       "      <th>CityName</th>\n",
       "      <th>Category</th>\n",
       "      <th>DataValueTypeID</th>\n",
       "      <th>Data_Value_Type</th>\n",
       "      <th>Data_Value</th>\n",
       "      <th>Low_Confidence_Limit</th>\n",
       "      <th>High_Confidence_Limit</th>\n",
       "      <th>PopulationCount</th>\n",
       "      <th>GeoLocation</th>\n",
       "      <th>Short_Question_Text</th>\n",
       "      <th>ZIP_CODE</th>\n",
       "      <th>Year</th>\n",
       "    </tr>\n",
       "  </thead>\n",
       "  <tbody>\n",
       "    <tr>\n",
       "      <th>0</th>\n",
       "      <td>Carlsbad</td>\n",
       "      <td>Prevention</td>\n",
       "      <td>AgeAdjPrv</td>\n",
       "      <td>Age-adjusted prevalence</td>\n",
       "      <td>8.8</td>\n",
       "      <td>8.3</td>\n",
       "      <td>9.2</td>\n",
       "      <td>105328</td>\n",
       "      <td>(33.1248051026, -117.282903303)</td>\n",
       "      <td>Health Insurance</td>\n",
       "      <td>92011</td>\n",
       "      <td>2014</td>\n",
       "    </tr>\n",
       "    <tr>\n",
       "      <th>22</th>\n",
       "      <td>Carlsbad</td>\n",
       "      <td>Unhealthy Behaviors</td>\n",
       "      <td>AgeAdjPrv</td>\n",
       "      <td>Age-adjusted prevalence</td>\n",
       "      <td>31.4</td>\n",
       "      <td>31.0</td>\n",
       "      <td>31.8</td>\n",
       "      <td>105328</td>\n",
       "      <td>(33.1248051026, -117.282903303)</td>\n",
       "      <td>Sleep</td>\n",
       "      <td>92011</td>\n",
       "      <td>2014</td>\n",
       "    </tr>\n",
       "    <tr>\n",
       "      <th>24</th>\n",
       "      <td>Carlsbad</td>\n",
       "      <td>Health Outcomes</td>\n",
       "      <td>AgeAdjPrv</td>\n",
       "      <td>Age-adjusted prevalence</td>\n",
       "      <td>18.8</td>\n",
       "      <td>18.6</td>\n",
       "      <td>19.1</td>\n",
       "      <td>105328</td>\n",
       "      <td>(33.1248051026, -117.282903303)</td>\n",
       "      <td>Arthritis</td>\n",
       "      <td>92011</td>\n",
       "      <td>2014</td>\n",
       "    </tr>\n",
       "    <tr>\n",
       "      <th>47</th>\n",
       "      <td>Carlsbad</td>\n",
       "      <td>Unhealthy Behaviors</td>\n",
       "      <td>AgeAdjPrv</td>\n",
       "      <td>Age-adjusted prevalence</td>\n",
       "      <td>19.7</td>\n",
       "      <td>19.5</td>\n",
       "      <td>19.9</td>\n",
       "      <td>105328</td>\n",
       "      <td>(33.1248051026, -117.282903303)</td>\n",
       "      <td>Binge Drinking</td>\n",
       "      <td>92011</td>\n",
       "      <td>2014</td>\n",
       "    </tr>\n",
       "    <tr>\n",
       "      <th>70</th>\n",
       "      <td>Carlsbad</td>\n",
       "      <td>Health Outcomes</td>\n",
       "      <td>AgeAdjPrv</td>\n",
       "      <td>Age-adjusted prevalence</td>\n",
       "      <td>24.8</td>\n",
       "      <td>24.5</td>\n",
       "      <td>25.0</td>\n",
       "      <td>105328</td>\n",
       "      <td>(33.1248051026, -117.282903303)</td>\n",
       "      <td>High Blood Pressure</td>\n",
       "      <td>92011</td>\n",
       "      <td>2013</td>\n",
       "    </tr>\n",
       "    <tr>\n",
       "      <th>93</th>\n",
       "      <td>Carlsbad</td>\n",
       "      <td>Prevention</td>\n",
       "      <td>AgeAdjPrv</td>\n",
       "      <td>Age-adjusted prevalence</td>\n",
       "      <td>51.0</td>\n",
       "      <td>50.7</td>\n",
       "      <td>51.3</td>\n",
       "      <td>105328</td>\n",
       "      <td>(33.1248051026, -117.282903303)</td>\n",
       "      <td>Taking BP Medication</td>\n",
       "      <td>92011</td>\n",
       "      <td>2013</td>\n",
       "    </tr>\n",
       "    <tr>\n",
       "      <th>116</th>\n",
       "      <td>Carlsbad</td>\n",
       "      <td>Health Outcomes</td>\n",
       "      <td>AgeAdjPrv</td>\n",
       "      <td>Age-adjusted prevalence</td>\n",
       "      <td>6.3</td>\n",
       "      <td>6.2</td>\n",
       "      <td>6.4</td>\n",
       "      <td>105328</td>\n",
       "      <td>(33.1248051026, -117.282903303)</td>\n",
       "      <td>Cancer (except skin)</td>\n",
       "      <td>92011</td>\n",
       "      <td>2014</td>\n",
       "    </tr>\n",
       "    <tr>\n",
       "      <th>139</th>\n",
       "      <td>Carlsbad</td>\n",
       "      <td>Health Outcomes</td>\n",
       "      <td>AgeAdjPrv</td>\n",
       "      <td>Age-adjusted prevalence</td>\n",
       "      <td>7.8</td>\n",
       "      <td>7.7</td>\n",
       "      <td>7.9</td>\n",
       "      <td>105328</td>\n",
       "      <td>(33.1248051026, -117.282903303)</td>\n",
       "      <td>Current Asthma</td>\n",
       "      <td>92011</td>\n",
       "      <td>2014</td>\n",
       "    </tr>\n",
       "    <tr>\n",
       "      <th>162</th>\n",
       "      <td>Carlsbad</td>\n",
       "      <td>Health Outcomes</td>\n",
       "      <td>AgeAdjPrv</td>\n",
       "      <td>Age-adjusted prevalence</td>\n",
       "      <td>4.8</td>\n",
       "      <td>4.7</td>\n",
       "      <td>4.9</td>\n",
       "      <td>105328</td>\n",
       "      <td>(33.1248051026, -117.282903303)</td>\n",
       "      <td>Coronary Heart Disease</td>\n",
       "      <td>92011</td>\n",
       "      <td>2014</td>\n",
       "    </tr>\n",
       "    <tr>\n",
       "      <th>185</th>\n",
       "      <td>Carlsbad</td>\n",
       "      <td>Prevention</td>\n",
       "      <td>AgeAdjPrv</td>\n",
       "      <td>Age-adjusted prevalence</td>\n",
       "      <td>66.8</td>\n",
       "      <td>66.6</td>\n",
       "      <td>67.0</td>\n",
       "      <td>105328</td>\n",
       "      <td>(33.1248051026, -117.282903303)</td>\n",
       "      <td>Annual Checkup</td>\n",
       "      <td>92011</td>\n",
       "      <td>2014</td>\n",
       "    </tr>\n",
       "  </tbody>\n",
       "</table>\n",
       "</div>"
      ],
      "text/plain": [
       "     CityName             Category DataValueTypeID          Data_Value_Type  \\\n",
       "0    Carlsbad           Prevention       AgeAdjPrv  Age-adjusted prevalence   \n",
       "22   Carlsbad  Unhealthy Behaviors       AgeAdjPrv  Age-adjusted prevalence   \n",
       "24   Carlsbad      Health Outcomes       AgeAdjPrv  Age-adjusted prevalence   \n",
       "47   Carlsbad  Unhealthy Behaviors       AgeAdjPrv  Age-adjusted prevalence   \n",
       "70   Carlsbad      Health Outcomes       AgeAdjPrv  Age-adjusted prevalence   \n",
       "93   Carlsbad           Prevention       AgeAdjPrv  Age-adjusted prevalence   \n",
       "116  Carlsbad      Health Outcomes       AgeAdjPrv  Age-adjusted prevalence   \n",
       "139  Carlsbad      Health Outcomes       AgeAdjPrv  Age-adjusted prevalence   \n",
       "162  Carlsbad      Health Outcomes       AgeAdjPrv  Age-adjusted prevalence   \n",
       "185  Carlsbad           Prevention       AgeAdjPrv  Age-adjusted prevalence   \n",
       "\n",
       "     Data_Value  Low_Confidence_Limit  High_Confidence_Limit  PopulationCount  \\\n",
       "0           8.8                   8.3                    9.2           105328   \n",
       "22         31.4                  31.0                   31.8           105328   \n",
       "24         18.8                  18.6                   19.1           105328   \n",
       "47         19.7                  19.5                   19.9           105328   \n",
       "70         24.8                  24.5                   25.0           105328   \n",
       "93         51.0                  50.7                   51.3           105328   \n",
       "116         6.3                   6.2                    6.4           105328   \n",
       "139         7.8                   7.7                    7.9           105328   \n",
       "162         4.8                   4.7                    4.9           105328   \n",
       "185        66.8                  66.6                   67.0           105328   \n",
       "\n",
       "                         GeoLocation     Short_Question_Text  ZIP_CODE  Year  \n",
       "0    (33.1248051026, -117.282903303)        Health Insurance     92011  2014  \n",
       "22   (33.1248051026, -117.282903303)                   Sleep     92011  2014  \n",
       "24   (33.1248051026, -117.282903303)               Arthritis     92011  2014  \n",
       "47   (33.1248051026, -117.282903303)          Binge Drinking     92011  2014  \n",
       "70   (33.1248051026, -117.282903303)     High Blood Pressure     92011  2013  \n",
       "93   (33.1248051026, -117.282903303)    Taking BP Medication     92011  2013  \n",
       "116  (33.1248051026, -117.282903303)    Cancer (except skin)     92011  2014  \n",
       "139  (33.1248051026, -117.282903303)          Current Asthma     92011  2014  \n",
       "162  (33.1248051026, -117.282903303)  Coronary Heart Disease     92011  2014  \n",
       "185  (33.1248051026, -117.282903303)          Annual Checkup     92011  2014  "
      ]
     },
     "execution_count": 9,
     "metadata": {},
     "output_type": "execute_result"
    }
   ],
   "source": [
    "#Only include Age adjusted values\n",
    "df2 = df.loc[df['DataValueTypeID'] == 'AgeAdjPrv']\n",
    "df2.head(10)"
   ]
  },
  {
   "cell_type": "code",
   "execution_count": 10,
   "metadata": {
    "collapsed": true
   },
   "outputs": [],
   "source": [
    "df = df[df['DataValueTypeID'] != 'AgeAdjPrv']"
   ]
  },
  {
   "cell_type": "code",
   "execution_count": 11,
   "metadata": {
    "collapsed": false
   },
   "outputs": [],
   "source": [
    "df_income = pd.read_csv(open('SD_Income_Data.csv'),skipinitialspace=True)\n",
    "df_income = df_income.dropna()"
   ]
  },
  {
   "cell_type": "code",
   "execution_count": 12,
   "metadata": {
    "collapsed": false
   },
   "outputs": [
    {
     "data": {
      "text/html": [
       "<div>\n",
       "<table border=\"1\" class=\"dataframe\">\n",
       "  <thead>\n",
       "    <tr style=\"text-align: right;\">\n",
       "      <th></th>\n",
       "      <th>CityName</th>\n",
       "      <th>Category</th>\n",
       "      <th>DataValueTypeID</th>\n",
       "      <th>Data_Value_Type</th>\n",
       "      <th>Data_Value</th>\n",
       "      <th>Low_Confidence_Limit</th>\n",
       "      <th>High_Confidence_Limit</th>\n",
       "      <th>PopulationCount</th>\n",
       "      <th>GeoLocation</th>\n",
       "      <th>Short_Question_Text</th>\n",
       "      <th>ZIP_CODE</th>\n",
       "      <th>Year</th>\n",
       "      <th>Median_Household_Income</th>\n",
       "    </tr>\n",
       "  </thead>\n",
       "  <tbody>\n",
       "    <tr>\n",
       "      <th>0</th>\n",
       "      <td>Carlsbad</td>\n",
       "      <td>Prevention</td>\n",
       "      <td>CrdPrv</td>\n",
       "      <td>Crude prevalence</td>\n",
       "      <td>8.9</td>\n",
       "      <td>8.4</td>\n",
       "      <td>9.3</td>\n",
       "      <td>105328</td>\n",
       "      <td>(33.1248051026, -117.282903303)</td>\n",
       "      <td>Health Insurance</td>\n",
       "      <td>92011</td>\n",
       "      <td>2014</td>\n",
       "      <td>102844.0</td>\n",
       "    </tr>\n",
       "    <tr>\n",
       "      <th>1</th>\n",
       "      <td>Carlsbad</td>\n",
       "      <td>Prevention</td>\n",
       "      <td>CrdPrv</td>\n",
       "      <td>Crude prevalence</td>\n",
       "      <td>6.7</td>\n",
       "      <td>5.3</td>\n",
       "      <td>8.3</td>\n",
       "      <td>5975</td>\n",
       "      <td>(33.0978405555, -117.288413926)</td>\n",
       "      <td>Health Insurance</td>\n",
       "      <td>92011</td>\n",
       "      <td>2014</td>\n",
       "      <td>102844.0</td>\n",
       "    </tr>\n",
       "    <tr>\n",
       "      <th>2</th>\n",
       "      <td>Carlsbad</td>\n",
       "      <td>Prevention</td>\n",
       "      <td>CrdPrv</td>\n",
       "      <td>Crude prevalence</td>\n",
       "      <td>7.4</td>\n",
       "      <td>6.2</td>\n",
       "      <td>9.1</td>\n",
       "      <td>6355</td>\n",
       "      <td>(33.1143889922, -117.308130884)</td>\n",
       "      <td>Health Insurance</td>\n",
       "      <td>92011</td>\n",
       "      <td>2014</td>\n",
       "      <td>102844.0</td>\n",
       "    </tr>\n",
       "    <tr>\n",
       "      <th>3</th>\n",
       "      <td>Carlsbad</td>\n",
       "      <td>Prevention</td>\n",
       "      <td>CrdPrv</td>\n",
       "      <td>Crude prevalence</td>\n",
       "      <td>7.2</td>\n",
       "      <td>6.1</td>\n",
       "      <td>8.5</td>\n",
       "      <td>4106</td>\n",
       "      <td>(33.1146160555, -117.321963679)</td>\n",
       "      <td>Health Insurance</td>\n",
       "      <td>92011</td>\n",
       "      <td>2014</td>\n",
       "      <td>102844.0</td>\n",
       "    </tr>\n",
       "    <tr>\n",
       "      <th>4</th>\n",
       "      <td>Carlsbad</td>\n",
       "      <td>Health Outcomes</td>\n",
       "      <td>CrdPrv</td>\n",
       "      <td>Crude prevalence</td>\n",
       "      <td>21.3</td>\n",
       "      <td>20.9</td>\n",
       "      <td>21.6</td>\n",
       "      <td>105328</td>\n",
       "      <td>(33.1248051026, -117.282903303)</td>\n",
       "      <td>Arthritis</td>\n",
       "      <td>92011</td>\n",
       "      <td>2014</td>\n",
       "      <td>102844.0</td>\n",
       "    </tr>\n",
       "    <tr>\n",
       "      <th>5</th>\n",
       "      <td>Carlsbad</td>\n",
       "      <td>Health Outcomes</td>\n",
       "      <td>CrdPrv</td>\n",
       "      <td>Crude prevalence</td>\n",
       "      <td>25.4</td>\n",
       "      <td>23.8</td>\n",
       "      <td>27.0</td>\n",
       "      <td>5975</td>\n",
       "      <td>(33.0978405555, -117.288413926)</td>\n",
       "      <td>Arthritis</td>\n",
       "      <td>92011</td>\n",
       "      <td>2014</td>\n",
       "      <td>102844.0</td>\n",
       "    </tr>\n",
       "    <tr>\n",
       "      <th>6</th>\n",
       "      <td>Carlsbad</td>\n",
       "      <td>Health Outcomes</td>\n",
       "      <td>CrdPrv</td>\n",
       "      <td>Crude prevalence</td>\n",
       "      <td>21.1</td>\n",
       "      <td>19.9</td>\n",
       "      <td>22.3</td>\n",
       "      <td>6355</td>\n",
       "      <td>(33.1143889922, -117.308130884)</td>\n",
       "      <td>Arthritis</td>\n",
       "      <td>92011</td>\n",
       "      <td>2014</td>\n",
       "      <td>102844.0</td>\n",
       "    </tr>\n",
       "    <tr>\n",
       "      <th>7</th>\n",
       "      <td>Carlsbad</td>\n",
       "      <td>Health Outcomes</td>\n",
       "      <td>CrdPrv</td>\n",
       "      <td>Crude prevalence</td>\n",
       "      <td>25.5</td>\n",
       "      <td>24.2</td>\n",
       "      <td>26.8</td>\n",
       "      <td>4106</td>\n",
       "      <td>(33.1146160555, -117.321963679)</td>\n",
       "      <td>Arthritis</td>\n",
       "      <td>92011</td>\n",
       "      <td>2014</td>\n",
       "      <td>102844.0</td>\n",
       "    </tr>\n",
       "    <tr>\n",
       "      <th>8</th>\n",
       "      <td>Carlsbad</td>\n",
       "      <td>Unhealthy Behaviors</td>\n",
       "      <td>CrdPrv</td>\n",
       "      <td>Crude prevalence</td>\n",
       "      <td>18.2</td>\n",
       "      <td>18.1</td>\n",
       "      <td>18.3</td>\n",
       "      <td>105328</td>\n",
       "      <td>(33.1248051026, -117.282903303)</td>\n",
       "      <td>Binge Drinking</td>\n",
       "      <td>92011</td>\n",
       "      <td>2014</td>\n",
       "      <td>102844.0</td>\n",
       "    </tr>\n",
       "    <tr>\n",
       "      <th>9</th>\n",
       "      <td>Carlsbad</td>\n",
       "      <td>Unhealthy Behaviors</td>\n",
       "      <td>CrdPrv</td>\n",
       "      <td>Crude prevalence</td>\n",
       "      <td>15.6</td>\n",
       "      <td>15.0</td>\n",
       "      <td>16.1</td>\n",
       "      <td>5975</td>\n",
       "      <td>(33.0978405555, -117.288413926)</td>\n",
       "      <td>Binge Drinking</td>\n",
       "      <td>92011</td>\n",
       "      <td>2014</td>\n",
       "      <td>102844.0</td>\n",
       "    </tr>\n",
       "  </tbody>\n",
       "</table>\n",
       "</div>"
      ],
      "text/plain": [
       "   CityName             Category DataValueTypeID   Data_Value_Type  \\\n",
       "0  Carlsbad           Prevention          CrdPrv  Crude prevalence   \n",
       "1  Carlsbad           Prevention          CrdPrv  Crude prevalence   \n",
       "2  Carlsbad           Prevention          CrdPrv  Crude prevalence   \n",
       "3  Carlsbad           Prevention          CrdPrv  Crude prevalence   \n",
       "4  Carlsbad      Health Outcomes          CrdPrv  Crude prevalence   \n",
       "5  Carlsbad      Health Outcomes          CrdPrv  Crude prevalence   \n",
       "6  Carlsbad      Health Outcomes          CrdPrv  Crude prevalence   \n",
       "7  Carlsbad      Health Outcomes          CrdPrv  Crude prevalence   \n",
       "8  Carlsbad  Unhealthy Behaviors          CrdPrv  Crude prevalence   \n",
       "9  Carlsbad  Unhealthy Behaviors          CrdPrv  Crude prevalence   \n",
       "\n",
       "   Data_Value  Low_Confidence_Limit  High_Confidence_Limit  PopulationCount  \\\n",
       "0         8.9                   8.4                    9.3           105328   \n",
       "1         6.7                   5.3                    8.3             5975   \n",
       "2         7.4                   6.2                    9.1             6355   \n",
       "3         7.2                   6.1                    8.5             4106   \n",
       "4        21.3                  20.9                   21.6           105328   \n",
       "5        25.4                  23.8                   27.0             5975   \n",
       "6        21.1                  19.9                   22.3             6355   \n",
       "7        25.5                  24.2                   26.8             4106   \n",
       "8        18.2                  18.1                   18.3           105328   \n",
       "9        15.6                  15.0                   16.1             5975   \n",
       "\n",
       "                       GeoLocation Short_Question_Text  ZIP_CODE  Year  \\\n",
       "0  (33.1248051026, -117.282903303)    Health Insurance     92011  2014   \n",
       "1  (33.0978405555, -117.288413926)    Health Insurance     92011  2014   \n",
       "2  (33.1143889922, -117.308130884)    Health Insurance     92011  2014   \n",
       "3  (33.1146160555, -117.321963679)    Health Insurance     92011  2014   \n",
       "4  (33.1248051026, -117.282903303)           Arthritis     92011  2014   \n",
       "5  (33.0978405555, -117.288413926)           Arthritis     92011  2014   \n",
       "6  (33.1143889922, -117.308130884)           Arthritis     92011  2014   \n",
       "7  (33.1146160555, -117.321963679)           Arthritis     92011  2014   \n",
       "8  (33.1248051026, -117.282903303)      Binge Drinking     92011  2014   \n",
       "9  (33.0978405555, -117.288413926)      Binge Drinking     92011  2014   \n",
       "\n",
       "   Median_Household_Income  \n",
       "0                 102844.0  \n",
       "1                 102844.0  \n",
       "2                 102844.0  \n",
       "3                 102844.0  \n",
       "4                 102844.0  \n",
       "5                 102844.0  \n",
       "6                 102844.0  \n",
       "7                 102844.0  \n",
       "8                 102844.0  \n",
       "9                 102844.0  "
      ]
     },
     "execution_count": 12,
     "metadata": {},
     "output_type": "execute_result"
    }
   ],
   "source": [
    "df_merge = pd.merge(df,df_income,on='ZIP_CODE')\n",
    "df_merge.head(10)"
   ]
  },
  {
   "cell_type": "markdown",
   "metadata": {},
   "source": [
    "Here we merged the income data with the disease data based on zip code (as ints that we had converted earlier). Now we have only 1 data set to focus on that has all the data we need including population, city, health data category, corresponding responses, and median household income matched based on zip codes."
   ]
  },
  {
   "cell_type": "markdown",
   "metadata": {},
   "source": [
    "# Visualizing Data\n",
    "\n",
    "Let's visualize the occurrences of some common disease then look at their frequencies in each zip code"
   ]
  },
  {
   "cell_type": "markdown",
   "metadata": {},
   "source": [
    "This dataset has a lot going on. Not only are diseases shown, but also unhealthy behaviors and preventative measures. Below, you can see that we have listed out all of the unique responses in the dataset so that you get a sense of the overall pool of answers we were using to do our visualization/analysis. Based on a study done by the Urban Institute and Center on Society and Health on the relationship between income and health/longevity (link provided in references below), we will be focusing on Obesity, Cancer (which encompasses all except skin), Coronary Heart Disease, and Arthritis. We will be looking at the occurrences of each of these issues/diseases in zip codes across the SD county. "
   ]
  },
  {
   "cell_type": "code",
   "execution_count": 11,
   "metadata": {
    "collapsed": false
   },
   "outputs": [],
   "source": [
    "# Data frame for each category of chronic diseas\n",
    "df_behaviors = df2[df2['Category'] == 'Unhealthy Behaviors']\n",
    "df_outcomes = df2[df2['Category'] == 'Health Outcomes']\n",
    "df_prevention = df2[df2['Category'] == 'Prevention']"
   ]
  },
  {
   "cell_type": "code",
   "execution_count": 12,
   "metadata": {
    "collapsed": false
   },
   "outputs": [
    {
     "name": "stdout",
     "output_type": "stream",
     "text": [
      "['Sleep' 'Binge Drinking' 'Obesity' 'Physical Activity' 'Current Smoking']\n"
     ]
    }
   ],
   "source": [
    "print(df_behaviors['Short_Question_Text'].unique())"
   ]
  },
  {
   "cell_type": "code",
   "execution_count": 13,
   "metadata": {
    "collapsed": false
   },
   "outputs": [
    {
     "name": "stdout",
     "output_type": "stream",
     "text": [
      "['Arthritis' 'High Blood Pressure' 'Cancer (except skin)' 'Current Asthma'\n",
      " 'Coronary Heart Disease' 'COPD' 'Diabetes' 'High Cholesterol'\n",
      " 'Chronic Kidney Disease' 'Mental Health' 'Physical Health' 'Stroke'\n",
      " 'Teeth Loss']\n"
     ]
    }
   ],
   "source": [
    "print(df_outcomes['Short_Question_Text'].unique())"
   ]
  },
  {
   "cell_type": "code",
   "execution_count": 14,
   "metadata": {
    "collapsed": false
   },
   "outputs": [
    {
     "name": "stdout",
     "output_type": "stream",
     "text": [
      "['Health Insurance' 'Taking BP Medication' 'Annual Checkup'\n",
      " 'Colorectal Cancer Screening' 'Core preventive services for older men'\n",
      " 'Core preventive services for older women' 'Dental Visit' 'Mammography'\n",
      " 'Pap Smear Test' 'Cholesterol Screening']\n"
     ]
    }
   ],
   "source": [
    "print(df_prevention['Short_Question_Text'].unique())"
   ]
  },
  {
   "cell_type": "markdown",
   "metadata": {},
   "source": [
    "Now our table has a parameter called Data_Value_Type that keeps track of Crude Prevalence versus Age-Adjusted Prevalence. This is an important distinction to make. When dealing with data like this, the age range is quite large. Especially when looking at diseases and health conditions, the trend is that older individuals are more likely to contract certain diseases simply because of their physical condition and age. Now, in our data, if there are zip codes where the average age is higher than other zip codes, you can’t properly compare them due to this extraneous factor. However, Age-Adjusted Prevalence is a good thing because it factors in these differences, yielding more accurate and comparable results. For this reason, we have found the 9 zip codes where the data set took care of this age-adjustment. Thus, we are dealing with an even more accurate/representative dataset."
   ]
  },
  {
   "cell_type": "code",
   "execution_count": 15,
   "metadata": {
    "collapsed": false
   },
   "outputs": [
    {
     "data": {
      "text/plain": [
       "array([92011, 91910, 92020, 92025, 92057, 92123, 92078, 92592, 92083])"
      ]
     },
     "execution_count": 15,
     "metadata": {},
     "output_type": "execute_result"
    }
   ],
   "source": [
    "zip_code = df2['ZIP_CODE'].unique()\n",
    "zip_code"
   ]
  },
  {
   "cell_type": "markdown",
   "metadata": {},
   "source": [
    "The following four graphs show the prevalence of each disease/health issue in each of the 9 age-adjusted zip codes. One thing to keep in mind is that, due to legal issues, all the data points taken in this set are of adults 18 or older. Children are not accounted for in this dataset. These graphs, off the bat, show that certain zip codes are experiencing higher percentages of certain diseases than the others. The next step, which is in our Data Analysis section, will be comparing the prevalence of each of these diseases in the zip code to the zip code’s median household income and health insurance percentage. "
   ]
  },
  {
   "cell_type": "code",
   "execution_count": 38,
   "metadata": {
    "collapsed": false
   },
   "outputs": [
    {
     "data": {
      "text/plain": [
       "<matplotlib.text.Text at 0x121589048>"
      ]
     },
     "execution_count": 38,
     "metadata": {},
     "output_type": "execute_result"
    },
    {
     "data": {
      "image/png": "[encoded data removed]",
      "text/plain": [
       "<matplotlib.figure.Figure at 0x121380400>"
      ]
     },
     "metadata": {},
     "output_type": "display_data"
    }
   ],
   "source": [
    "ob = df_behaviors[df_behaviors['Short_Question_Text'] == 'Obesity']\n",
    "x = np.arange(len(zip_code))\n",
    "plt.xticks(x, zip_code)\n",
    "plt.bar(x,ob['Data_Value'])\n",
    "plt.xlabel('Zipcode',fontsize=15)\n",
    "plt.ylabel('Percent of population w/ Obesity among adults aged≥18 years')"
   ]
  },
  {
   "cell_type": "code",
   "execution_count": 39,
   "metadata": {
    "collapsed": false
   },
   "outputs": [
    {
     "data": {
      "text/plain": [
       "<matplotlib.text.Text at 0x121660860>"
      ]
     },
     "execution_count": 39,
     "metadata": {},
     "output_type": "execute_result"
    },
    {
     "data": {
      "image/png": "[encoded data removed]",
      "text/plain": [
       "<matplotlib.figure.Figure at 0x11caf90b8>"
      ]
     },
     "metadata": {},
     "output_type": "display_data"
    }
   ],
   "source": [
    "cancer = df_outcomes[df_outcomes['Short_Question_Text'] == 'Cancer (except skin)']\n",
    "x = np.arange(len(zip_code))\n",
    "plt.xticks(x, zip_code)\n",
    "plt.bar(x,cancer['Data_Value'])\n",
    "plt.xlabel('Zipcode',fontsize=15)\n",
    "plt.ylabel('Percent of population w/ Cancer (excluding skin cancer) among adults aged≥18 years')"
   ]
  },
  {
   "cell_type": "code",
   "execution_count": 40,
   "metadata": {
    "collapsed": false
   },
   "outputs": [
    {
     "data": {
      "text/plain": [
       "<matplotlib.text.Text at 0x1217c1ac8>"
      ]
     },
     "execution_count": 40,
     "metadata": {},
     "output_type": "execute_result"
    },
    {
     "data": {
      "image/png": "[encoded data removed]",
      "text/plain": [
       "<matplotlib.figure.Figure at 0x1208d8208>"
      ]
     },
     "metadata": {},
     "output_type": "display_data"
    }
   ],
   "source": [
    "heart = df_outcomes[df_outcomes['Short_Question_Text'] == 'Coronary Heart Disease']\n",
    "code = heart['ZIP_CODE'].unique()\n",
    "x = np.arange(len(code))\n",
    "plt.xticks(x, code)\n",
    "plt.bar(x,heart['Data_Value'])\n",
    "plt.xlabel('Zipcode',fontsize=15)\n",
    "plt.ylabel('Percent of population w/ Coronary heart disease among adults aged≥18 years')"
   ]
  },
  {
   "cell_type": "code",
   "execution_count": 41,
   "metadata": {
    "collapsed": false
   },
   "outputs": [
    {
     "data": {
      "text/plain": [
       "<matplotlib.text.Text at 0x1219dc588>"
      ]
     },
     "execution_count": 41,
     "metadata": {},
     "output_type": "execute_result"
    },
    {
     "data": {
      "image/png": "[encoded data removed]",
      "text/plain": [
       "<matplotlib.figure.Figure at 0x11734a048>"
      ]
     },
     "metadata": {},
     "output_type": "display_data"
    }
   ],
   "source": [
    "arth = df_outcomes[df_outcomes['Short_Question_Text'] == 'Arthritis']\n",
    "x = np.arange(len(zip_code))\n",
    "plt.xticks(x, zip_code)\n",
    "plt.bar(x,arth['Data_Value'])\n",
    "plt.xlabel('Zipcode',fontsize=15)\n",
    "plt.ylabel('Percent of population w/ Arthritis among adults aged≥18 years')"
   ]
  },
  {
   "cell_type": "markdown",
   "metadata": {},
   "source": [
    "# Data Analysis"
   ]
  },
  {
   "cell_type": "markdown",
   "metadata": {},
   "source": [
    "We start off by graphing the percent of each zip code’s population with a certain disease against lack of health insurance for that same zip code. Let’s take a look at the graph of each disease and their corresponding Pearson correlation coefficients (this is a measure of the linear correlation between two variables where +/- 1 indicates a strong correlation and 0 indicates no correlation): \n",
    "\n",
    "<img src=pearson_r.png>"
   ]
  },
  {
   "cell_type": "code",
   "execution_count": 20,
   "metadata": {
    "collapsed": true
   },
   "outputs": [],
   "source": [
    "insurance = df_prevention[df_prevention['Short_Question_Text'] == 'Health Insurance']"
   ]
  },
  {
   "cell_type": "markdown",
   "metadata": {},
   "source": [
    "For Obesity, we see that there is a value of 0.84, which indicates that there is a very strong correlation between the zip codes with high obesity percentages and also high percentages of  no health insurance. Just looking at the graph, you can also draw the same conclusion. "
   ]
  },
  {
   "cell_type": "code",
   "execution_count": 45,
   "metadata": {
    "collapsed": false
   },
   "outputs": [
    {
     "name": "stdout",
     "output_type": "stream",
     "text": [
      "Pearson' correlation value: 0.838245497877\n"
     ]
    },
    {
     "data": {
      "image/png": "[encoded data removed]",
      "text/plain": [
       "<matplotlib.figure.Figure at 0x121cf92b0>"
      ]
     },
     "metadata": {},
     "output_type": "display_data"
    }
   ],
   "source": [
    "plt.scatter(ob['Data_Value'],insurance['Data_Value'])\n",
    "p,tailed_p = sp.stats.pearsonr(ob['Data_Value'],insurance['Data_Value'])\n",
    "length = len(ob['ZIP_CODE'])\n",
    "name = list(ob['ZIP_CODE'])\n",
    "x = list(ob['Data_Value'])\n",
    "y = list(insurance['Data_Value'])\n",
    "plt.xlabel('Current lack of health insurance among adults aged 18–64 years')\n",
    "plt.ylabel('Percent of population w/ Obesity among adults aged≥18 years')\n",
    "for i in range(length):\n",
    "    plt.annotate(name[i],(x[i],y[i]))\n",
    "print(\"Pearson' correlation value:\",p)"
   ]
  },
  {
   "cell_type": "markdown",
   "metadata": {},
   "source": [
    "For Cancer, we see that there is a value of -0.58, which indicates a strong correlation. However, this is not a huge issue because the origins of cancer are still nebulous. Scientists and researchers are still postulating how people get a variety of different cancers so its nice to see a slight correlation regardless."
   ]
  },
  {
   "cell_type": "code",
   "execution_count": 46,
   "metadata": {
    "collapsed": false
   },
   "outputs": [
    {
     "name": "stdout",
     "output_type": "stream",
     "text": [
      "Pearson' correlation value: -0.577885270194\n"
     ]
    },
    {
     "data": {
      "image/png": "[encoded data removed]",
      "text/plain": [
       "<matplotlib.figure.Figure at 0x121c3f7b8>"
      ]
     },
     "metadata": {},
     "output_type": "display_data"
    }
   ],
   "source": [
    "plt.scatter(cancer['Data_Value'],insurance['Data_Value'])\n",
    "p,tailed_p = sp.stats.pearsonr(cancer['Data_Value'],insurance['Data_Value'])\n",
    "length = len(cancer['ZIP_CODE'])\n",
    "name = list(cancer['ZIP_CODE'])\n",
    "x = list(cancer['Data_Value'])\n",
    "y = list(insurance['Data_Value'])\n",
    "plt.xlabel('Current lack of health insurance among adults aged 18–64 years')\n",
    "plt.ylabel('Percent of population w/ Cancer (excluding skin cancer) among adults aged≥18 years')\n",
    "for i in range(length):\n",
    "    plt.annotate(name[i],(x[i],y[i]))\n",
    "print(\"Pearson' correlation value:\",p)"
   ]
  },
  {
   "cell_type": "markdown",
   "metadata": {},
   "source": [
    "For Heart Disease, we see that there is a value of 0.66, which indicates a also a strong positive correlation between lack of health insurance and high percentages of heart disease."
   ]
  },
  {
   "cell_type": "code",
   "execution_count": 47,
   "metadata": {
    "collapsed": false
   },
   "outputs": [
    {
     "name": "stdout",
     "output_type": "stream",
     "text": [
      "Pearson' correlation value: 0.664315908253\n"
     ]
    },
    {
     "data": {
      "image/png": "[encoded data removed]",
      "text/plain": [
       "<matplotlib.figure.Figure at 0x121e0cdd8>"
      ]
     },
     "metadata": {},
     "output_type": "display_data"
    }
   ],
   "source": [
    "plt.scatter(arth['Data_Value'],insurance['Data_Value'])\n",
    "p,tailed_p = sp.stats.pearsonr(arth['Data_Value'],insurance['Data_Value'])\n",
    "length = len(arth['ZIP_CODE'])\n",
    "name = list(arth['ZIP_CODE'])\n",
    "x = list(arth['Data_Value'])\n",
    "y = list(insurance['Data_Value'])\n",
    "plt.xlabel('Current lack of health insurance among adults aged 18–64 years')\n",
    "plt.ylabel('Percent of population w/ Coronary heart disease among adults aged≥18 years')\n",
    "for i in range(length):\n",
    "    plt.annotate(name[i],(x[i],y[i]))\n",
    "print(\"Pearson' correlation value:\",p)"
   ]
  },
  {
   "cell_type": "markdown",
   "metadata": {},
   "source": [
    "For Arthritis, we see that there is a value of 0.94, which indicates a VERY strong positive correlation between lack of health insurance and the prevalence of the disease. The graph also shows a near linear fit, all of which indicates having health insurance reduces the amount of people in the zip code with arthritis. "
   ]
  },
  {
   "cell_type": "code",
   "execution_count": 48,
   "metadata": {
    "collapsed": false
   },
   "outputs": [
    {
     "data": {
      "text/plain": [
       "0.94216950062936555"
      ]
     },
     "execution_count": 48,
     "metadata": {},
     "output_type": "execute_result"
    },
    {
     "data": {
      "image/png": "[encoded data removed]",
      "text/plain": [
       "<matplotlib.figure.Figure at 0x120c0d0f0>"
      ]
     },
     "metadata": {},
     "output_type": "display_data"
    }
   ],
   "source": [
    "temp = insurance[insurance['ZIP_CODE'] != 91910]\n",
    "plt.scatter(heart['Data_Value'],temp['Data_Value'])\n",
    "p,tailed_p = sp.stats.pearsonr(heart['Data_Value'],temp['Data_Value'])\n",
    "length = len(heart['ZIP_CODE'])\n",
    "name = list(heart['ZIP_CODE'])\n",
    "x = list(heart['Data_Value'])\n",
    "y = list(temp['Data_Value'])\n",
    "plt.xlabel('Current lack of health insurance among adults aged 18–64 years')\n",
    "plt.ylabel('Percent of population w/ Arthritis among adults aged≥18 years')\n",
    "for i in range(length):\n",
    "    plt.annotate(name[i],(x[i],y[i]))\n",
    "p"
   ]
  },
  {
   "cell_type": "markdown",
   "metadata": {},
   "source": [
    "Now health insurance is not the only metric that we want to do a comparison with. We also feel that looking at median household income is important to understanding if wealth has any sort of effect on a zip code’s overall well being. We have shown the regression results for each disease and associated median household income. We will be looking at the r-squared value (which is a statistical representation of closely the data fits a regression line with a value close to 1 being very good and a value close to 0 showing no correlation), the t-value (which shows the size of the difference relative to the variation in your sample data so basically the greater the magnitude of this value the greater the evidence against the null hypothesis), the p-value (closely connected to the t-value, the smaller this value is, the stronger the evidence for the alternative hypothesis), and the f-statistic (which shows us whether or not this grouping of disease and household income is statistically significant, basically if our research findings are meaningful). The explanations of these values was all derived from links provided in the reference section (at the end of this report). Let’s take a look at the regression results of comparing each the percentage of each zip code’s population with a certain disease against the average income in that zip code: "
   ]
  },
  {
   "cell_type": "markdown",
   "metadata": {},
   "source": [
    "Looking at Obesity, we see an R-squared value of 0.356, an F-statistic value of 306.6, a t-value of 64.12, and a p-value of 0. Since p-value is 0, this is a strong support for the alternative hypothesis and the rejection of the null hypothesis is further supported by a large t-value. While the r-squared is kind of small, it corresponds to a r value with the magnitude of roughly 0.6, which can be considered strong enough to state the there is a correlation between income and obesity. The scatter plot of this data shows that as median income goes down, the obesity percentages go up, further prompting us to reject the null-hypothesis. "
   ]
  },
  {
   "cell_type": "code",
   "execution_count": 30,
   "metadata": {
    "collapsed": false
   },
   "outputs": [
    {
     "name": "stdout",
     "output_type": "stream",
     "text": [
      "                            OLS Regression Results                            \n",
      "==============================================================================\n",
      "Dep. Variable:             Data_Value   R-squared:                       0.356\n",
      "Model:                            OLS   Adj. R-squared:                  0.355\n",
      "Method:                 Least Squares   F-statistic:                     306.6\n",
      "Date:                Mon, 12 Jun 2017   Prob (F-statistic):           5.86e-55\n",
      "Time:                        23:19:28   Log-Likelihood:                -1517.5\n",
      "No. Observations:                 556   AIC:                             3039.\n",
      "Df Residuals:                     554   BIC:                             3048.\n",
      "Df Model:                           1                                         \n",
      "Covariance Type:            nonrobust                                         \n",
      "===========================================================================================\n",
      "                              coef    std err          t      P>|t|      [95.0% Conf. Int.]\n",
      "-------------------------------------------------------------------------------------------\n",
      "Intercept                  31.3778      0.489     64.119      0.000        30.417    32.339\n",
      "Median_Household_Income    -0.0001   7.12e-06    -17.509      0.000        -0.000    -0.000\n",
      "==============================================================================\n",
      "Omnibus:                        4.630   Durbin-Watson:                   0.963\n",
      "Prob(Omnibus):                  0.099   Jarque-Bera (JB):                4.641\n",
      "Skew:                           0.223   Prob(JB):                       0.0982\n",
      "Kurtosis:                       2.969   Cond. No.                     2.13e+05\n",
      "==============================================================================\n",
      "\n",
      "Warnings:\n",
      "[1] Standard Errors assume that the covariance matrix of the errors is correctly specified.\n",
      "[2] The condition number is large, 2.13e+05. This might indicate that there are\n",
      "strong multicollinearity or other numerical problems.\n"
     ]
    }
   ],
   "source": [
    "ob_df = df_merge[df_merge['Short_Question_Text'] == 'Obesity']\n",
    "outcome_1, predictors_1 = patsy.dmatrices('Data_Value ~ Median_Household_Income', ob_df)\n",
    "mod_1 = sm.OLS(outcome_1, predictors_1)\n",
    "res_1 = mod_1.fit()\n",
    "print(res_1.summary())"
   ]
  },
  {
   "cell_type": "code",
   "execution_count": 57,
   "metadata": {
    "collapsed": false
   },
   "outputs": [
    {
     "data": {
      "text/plain": [
       "<matplotlib.text.Text at 0x121fe6080>"
      ]
     },
     "execution_count": 57,
     "metadata": {},
     "output_type": "execute_result"
    },
    {
     "data": {
      "image/png": "[encoded data removed]",
      "text/plain": [
       "<matplotlib.figure.Figure at 0x122118da0>"
      ]
     },
     "metadata": {},
     "output_type": "display_data"
    }
   ],
   "source": [
    "plt.scatter(ob_df['Data_Value'],ob_df['Median_Household_Income'])\n",
    "plt.xlabel('Percent of population w/ Obesity among adults aged≥18 years',fontsize=12)\n",
    "plt.ylabel('Median Household Income',fontsize=15)"
   ]
  },
  {
   "cell_type": "markdown",
   "metadata": {},
   "source": [
    "Looking at Cancer, we see an R-squared value of 0.032, an F-statistic value of 17.88, a t-value of 16.12, and a p-value of 0. These values show a bit weaker correlation as the t-value is quite small compared to that of obesity, the R-squared value and its corresponding absolute r-value (roughly 0.18) are also quite small. However, as discussed in the visualization section, the causes of cancer are still a subject of great debate so these values should not be read into a whole lot. The scatter plot of the cancer percentages further support this weak correlation as we see that you cannot draw a clear conclusion that as income goes down the prevalence of cancer in a zip code goes up."
   ]
  },
  {
   "cell_type": "code",
   "execution_count": 27,
   "metadata": {
    "collapsed": false
   },
   "outputs": [
    {
     "name": "stdout",
     "output_type": "stream",
     "text": [
      "                            OLS Regression Results                            \n",
      "==============================================================================\n",
      "Dep. Variable:             Data_Value   R-squared:                       0.032\n",
      "Model:                            OLS   Adj. R-squared:                  0.030\n",
      "Method:                 Least Squares   F-statistic:                     17.88\n",
      "Date:                Mon, 12 Jun 2017   Prob (F-statistic):           2.75e-05\n",
      "Time:                        23:02:11   Log-Likelihood:                -1179.8\n",
      "No. Observations:                 551   AIC:                             2364.\n",
      "Df Residuals:                     549   BIC:                             2372.\n",
      "Df Model:                           1                                         \n",
      "Covariance Type:            nonrobust                                         \n",
      "===========================================================================================\n",
      "                              coef    std err          t      P>|t|      [95.0% Conf. Int.]\n",
      "-------------------------------------------------------------------------------------------\n",
      "Intercept                   4.3961      0.273     16.120      0.000         3.860     4.932\n",
      "Median_Household_Income  1.674e-05   3.96e-06      4.229      0.000      8.97e-06  2.45e-05\n",
      "==============================================================================\n",
      "Omnibus:                      361.397   Durbin-Watson:                   1.351\n",
      "Prob(Omnibus):                  0.000   Jarque-Bera (JB):             6005.391\n",
      "Skew:                           2.611   Prob(JB):                         0.00\n",
      "Kurtosis:                      18.307   Cond. No.                     2.14e+05\n",
      "==============================================================================\n",
      "\n",
      "Warnings:\n",
      "[1] Standard Errors assume that the covariance matrix of the errors is correctly specified.\n",
      "[2] The condition number is large, 2.14e+05. This might indicate that there are\n",
      "strong multicollinearity or other numerical problems.\n"
     ]
    }
   ],
   "source": [
    "cancer_df = df_merge[df_merge['Short_Question_Text'] == 'Cancer (except skin)']\n",
    "outcome_2, predictors_2 = patsy.dmatrices('Data_Value ~ Median_Household_Income', cancer_df)\n",
    "mod_2 = sm.OLS(outcome_2, predictors_2)\n",
    "res_2 = mod_2.fit()\n",
    "print(res_2.summary())"
   ]
  },
  {
   "cell_type": "code",
   "execution_count": 58,
   "metadata": {
    "collapsed": false
   },
   "outputs": [
    {
     "data": {
      "text/plain": [
       "<matplotlib.text.Text at 0x120da0940>"
      ]
     },
     "execution_count": 58,
     "metadata": {},
     "output_type": "execute_result"
    },
    {
     "data": {
      "image/png": "[encoded data removed]",
      "text/plain": [
       "<matplotlib.figure.Figure at 0x1219329b0>"
      ]
     },
     "metadata": {},
     "output_type": "display_data"
    }
   ],
   "source": [
    "plt.scatter(cancer_df['Data_Value'],cancer_df['Median_Household_Income'])\n",
    "plt.xlabel('Percent of population w/ Cancer (except skin) among adults aged≥18 years',fontsize=12)\n",
    "plt.ylabel('Median Household Income',fontsize=15)"
   ]
  },
  {
   "cell_type": "markdown",
   "metadata": {},
   "source": [
    "Looking at Coronary Heart Disease, we see an R-squared value of 0.062, an F-statistic value of 36.74, a t-value of 29.43, and a p-value of 0. The correlation is a bit stronger than the one we saw with cancer, but not as strong as we would have hoped. The r-squared value and its corresponding absolute r-value (roughly 0.25) indicate that we cannot really say that lower income leads to higher heart disease rates. This is also seen in the plot, which does not indicate a very strong correlation between the two. However, the t-value is quite high as is the f-statistic and the p-value is 0, so there is support for the rejection of the null hypothesis. "
   ]
  },
  {
   "cell_type": "code",
   "execution_count": 32,
   "metadata": {
    "collapsed": false
   },
   "outputs": [
    {
     "name": "stdout",
     "output_type": "stream",
     "text": [
      "                            OLS Regression Results                            \n",
      "==============================================================================\n",
      "Dep. Variable:             Data_Value   R-squared:                       0.062\n",
      "Model:                            OLS   Adj. R-squared:                  0.060\n",
      "Method:                 Least Squares   F-statistic:                     36.74\n",
      "Date:                Mon, 12 Jun 2017   Prob (F-statistic):           2.49e-09\n",
      "Time:                        23:20:42   Log-Likelihood:                -1093.8\n",
      "No. Observations:                 561   AIC:                             2192.\n",
      "Df Residuals:                     559   BIC:                             2200.\n",
      "Df Model:                           1                                         \n",
      "Covariance Type:            nonrobust                                         \n",
      "===========================================================================================\n",
      "                              coef    std err          t      P>|t|      [95.0% Conf. Int.]\n",
      "-------------------------------------------------------------------------------------------\n",
      "Intercept                   6.5117      0.221     29.428      0.000         6.077     6.946\n",
      "Median_Household_Income -1.943e-05   3.21e-06     -6.061      0.000     -2.57e-05 -1.31e-05\n",
      "==============================================================================\n",
      "Omnibus:                      309.535   Durbin-Watson:                   1.464\n",
      "Prob(Omnibus):                  0.000   Jarque-Bera (JB):             3915.622\n",
      "Skew:                           2.146   Prob(JB):                         0.00\n",
      "Kurtosis:                      15.210   Cond. No.                     2.12e+05\n",
      "==============================================================================\n",
      "\n",
      "Warnings:\n",
      "[1] Standard Errors assume that the covariance matrix of the errors is correctly specified.\n",
      "[2] The condition number is large, 2.12e+05. This might indicate that there are\n",
      "strong multicollinearity or other numerical problems.\n"
     ]
    }
   ],
   "source": [
    "heart_df = df_merge[df_merge['Short_Question_Text'] == 'Coronary Heart Disease']\n",
    "outcome_3, predictors_3 = patsy.dmatrices('Data_Value ~ Median_Household_Income', heart_df)\n",
    "mod_3 = sm.OLS(outcome_3, predictors_3)\n",
    "res_3 = mod_3.fit()\n",
    "print(res_3.summary())"
   ]
  },
  {
   "cell_type": "code",
   "execution_count": 59,
   "metadata": {
    "collapsed": false
   },
   "outputs": [
    {
     "data": {
      "text/plain": [
       "<matplotlib.text.Text at 0x121c65278>"
      ]
     },
     "execution_count": 59,
     "metadata": {},
     "output_type": "execute_result"
    },
    {
     "data": {
      "image/png": "[encoded data removed]",
      "text/plain": [
       "<matplotlib.figure.Figure at 0x121c7e748>"
      ]
     },
     "metadata": {},
     "output_type": "display_data"
    }
   ],
   "source": [
    "plt.scatter(heart_df['Data_Value'],heart_df['Median_Household_Income'])\n",
    "plt.xlabel('Percent of population w/ Coronary Heart Disease among adults aged≥18 years',fontsize=12)\n",
    "plt.ylabel('Median Household Income',fontsize=15)"
   ]
  },
  {
   "cell_type": "markdown",
   "metadata": {},
   "source": [
    "Looking at Arthritis, we see an R-squared value of 0.019, an F-statistic value of 11.02, a t-value of 35.473, and a p-value of 0.001. This is the weakest correlation of the four disease we have looked at because the r-squared value and its corresponding absolute r value (roughly 0.14) don’t show us a whole lot of correlation between the presence of arthritis in a zip code and the corresponding median income. The plot further supports this, as no clear correlation can be found. "
   ]
  },
  {
   "cell_type": "code",
   "execution_count": 35,
   "metadata": {
    "collapsed": false
   },
   "outputs": [
    {
     "name": "stdout",
     "output_type": "stream",
     "text": [
      "                            OLS Regression Results                            \n",
      "==============================================================================\n",
      "Dep. Variable:             Data_Value   R-squared:                       0.019\n",
      "Model:                            OLS   Adj. R-squared:                  0.018\n",
      "Method:                 Least Squares   F-statistic:                     11.02\n",
      "Date:                Mon, 12 Jun 2017   Prob (F-statistic):           0.000961\n",
      "Time:                        23:21:53   Log-Likelihood:                -1644.9\n",
      "No. Observations:                 560   AIC:                             3294.\n",
      "Df Residuals:                     558   BIC:                             3303.\n",
      "Df Model:                           1                                         \n",
      "Covariance Type:            nonrobust                                         \n",
      "===========================================================================================\n",
      "                              coef    std err          t      P>|t|      [95.0% Conf. Int.]\n",
      "-------------------------------------------------------------------------------------------\n",
      "Intercept                  21.2050      0.598     35.473      0.000        20.031    22.379\n",
      "Median_Household_Income  -2.88e-05   8.68e-06     -3.319      0.001     -4.58e-05 -1.18e-05\n",
      "==============================================================================\n",
      "Omnibus:                      219.875   Durbin-Watson:                   1.410\n",
      "Prob(Omnibus):                  0.000   Jarque-Bera (JB):             2000.075\n",
      "Skew:                           1.469   Prob(JB):                         0.00\n",
      "Kurtosis:                      11.780   Cond. No.                     2.13e+05\n",
      "==============================================================================\n",
      "\n",
      "Warnings:\n",
      "[1] Standard Errors assume that the covariance matrix of the errors is correctly specified.\n",
      "[2] The condition number is large, 2.13e+05. This might indicate that there are\n",
      "strong multicollinearity or other numerical problems.\n"
     ]
    }
   ],
   "source": [
    "arth_df = df_merge[df_merge['Short_Question_Text'] == 'Arthritis']\n",
    "outcome_4, predictors_4 = patsy.dmatrices('Data_Value ~ Median_Household_Income', arth_df)\n",
    "mod_4 = sm.OLS(outcome_4, predictors_4)\n",
    "res_4 = mod_4.fit()\n",
    "print(res_4.summary())"
   ]
  },
  {
   "cell_type": "markdown",
   "metadata": {},
   "source": [
    "# Conclusion/Discussion\n",
    "\n",
    "We first saw that there were strong correlations between percent of population in the major 9 zipcodes in San Diego County between percent of population with one of the 4 main top diseases and percent of the population who lacked health insurance. We decided to look into further confounds by looking at the Median Household income of these zipcodes in San Diego County. After plotting these results it seemed as though the zipcodes with lower percents of the population with these given diseases had lower rates of the population that lacked healthcare had higher Median Household Incomes. We then made 4 different Linear Regression Models and looked at the percent of the population for each given disease and their corresponding incomes. We saw significant t values in all our OLS Models meaning that Median Household Income was statistically significant at predicting percentage of the population affected by the given disease. Lastly we obsereved that our coefficient values for our parameter estimates were very small meaning that for every dollar increase in the zipcode's Median House Income the model predicts the following changes of percent of the population for each of the following diseases:\n",
    "\n",
    "* Obesity: -0.0001\n",
    "* Cancer: 1.674e-05\n",
    "* Coronary Heart Disease: -1.943e-05\n",
    "* Arthritis: -2.88e-05"
   ]
  },
  {
   "cell_type": "markdown",
   "metadata": {},
   "source": [
    "# References\n",
    "\n",
    "Correlation between Socioeconomic Status and Clinical Course in Patients with Cutaneous Leishmaniasis\n",
    "(https://www.ncbi.nlm.nih.gov/pubmed/25775662)\n",
    "\n",
    "Relationship between socioeconomic status and the prevalence of cardiovascular disease among retired residents living in a community\n",
    "(https://www.ncbi.nlm.nih.gov/pubmed/25059355)\n",
    "\n",
    "How Are Income And Wealth Linked To Health And Longevity?\n",
    "(http://www.urban.org/sites/default/files/publication/49116/2000178-How-are-Income-and-Wealth-Linked-to-Health-and-Longevity.pdf)\n",
    "\n",
    "Regression Analysis (https://stats.idre.ucla.edu/stata/output/regression-analysis-2/)\n",
    "\n",
    "F-statistic (http://www.statisticshowto.com/f-statistic/)\n",
    "\n",
    "P-value (http://www.investopedia.com/terms/p/p-value.asp)\n",
    "\n",
    "R-squared value (https://www.linkedin.com/pulse/regression-analysis-how-do-i-interpret-r-squared-assess-gaurhari-dass)\n",
    "\n",
    "Pearson correlation coefficient (https://en.wikipedia.org/wiki/Pearson_correlation_coefficient)\n"
   ]
  }
 ],
 "metadata": {
  "celltoolbar": "Raw Cell Format",
  "kernelspec": {
   "display_name": "Python 3",
   "language": "python",
   "name": "python3"
  },
  "language_info": {
   "codemirror_mode": {
    "name": "ipython",
    "version": 3
   },
   "file_extension": ".py",
   "mimetype": "text/x-python",
   "name": "python",
   "nbconvert_exporter": "python",
   "pygments_lexer": "ipython3",
   "version": "3.6.0"
  }
 },
 "nbformat": 4,
 "nbformat_minor": 2
}
