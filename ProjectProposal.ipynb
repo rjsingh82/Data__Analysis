{
 "cells": [
  {
   "cell_type": "markdown",
   "metadata": {},
   "source": [
    "# COGS 108 - Assignment 4: Project Proposal"
   ]
  },
  {
   "cell_type": "markdown",
   "metadata": {},
   "source": [
    "## Important\n",
    "\n",
    "- Make sure all group member (3-5 people) are listed in the group members section.\n",
    "- ONE, and only one, member of your group should upload this notebook to TritonED. \n",
    "- Each member of the group will receive the same grade on this assignment. \n",
    "- Keep the file name the same: submit the file 'A4_ProjectProposal.ipynb'"
   ]
  },
  {
   "cell_type": "markdown",
   "metadata": {},
   "source": [
    "## Overview"
   ]
  },
  {
   "cell_type": "markdown",
   "metadata": {},
   "source": [
    "Read the project description, and detailed instructions for this assignment, in the 'A4_ProjectOutlineAndProposal' pdf."
   ]
  },
  {
   "cell_type": "markdown",
   "metadata": {},
   "source": [
    "## Group Members: Fill in the Student ID's of each group member here\n",
    "- A12343598 Belal Aboabdo\n",
    "- A12267638 Chris Yan\n",
    "- A12060931 Andrew Hwang \n",
    "- A10814334 Rj Singh\n",
    "- A11334214 Kevin Gong\n",
    "- A11625774 Momin Khan"
   ]
  },
  {
   "cell_type": "markdown",
   "metadata": {},
   "source": [
    "### Research Question\n",
    "\n",
    "What is your research question? (1-2 sentences)"
   ]
  },
  {
   "cell_type": "markdown",
   "metadata": {},
   "source": [
    "Are diseases distributed differently across different cities within San Diego County and are their frequencies dependent on socioeconomic backgrounds?\n"
   ]
  },
  {
   "cell_type": "markdown",
   "metadata": {},
   "source": [
    "### Hypothesis\n",
    "\n",
    "What is your prediction (2-3 sentences)"
   ]
  },
  {
   "cell_type": "markdown",
   "metadata": {},
   "source": [
    "We believe that, across the San Diego County, there is no correlation between the frequency of diseases and socioeconomic statuses. The diseases will be limited to the top 3-5 most commonly occurring in each respective zip code in San Diego County. "
   ]
  },
  {
   "cell_type": "markdown",
   "metadata": {},
   "source": [
    "### Dataset(s)\n",
    "\n",
    "What data will you use to answer your question? Describe the dataset in terms of number of observations, what kind of features it contains, etc. You must use at least one dataset containing at least approximately 1000 observations (if your data are smaller but you feel they are sufficient, email Prof. Voytek). You are welcome (and in fact recommended) to find multiple datasets! If you do so, describe each one, and briefly explain how you will combine them together. "
   ]
  },
  {
   "cell_type": "markdown",
   "metadata": {},
   "source": [
    "- SOI Tax Stats - Individual Income Tax Statistics - ZIP Code Data (SOI)\n",
    "\n",
    "    - https://www.irs.gov/uac/soi-tax-stats-individual-income-tax-statistics-zip-code-data-soi\n",
    "    - Number of observations: 10,000+\n",
    "    - ZIP Code data show selected income and tax items classified by State, ZIP Code, and size of adjusted gross income. Data are based on individual income tax returns filed with the IRS and are available for Tax Years 1998, 2001, and 2004 through 2014. We will be using the 2014 data because it is the most recent and matches most closely to the years in our other data set.\n",
    "- 500 Cities: Local Data for Better Health\n",
    "\n",
    "    - https://catalog.data.gov/dataset/500-cities-local-data-for-better-health-b32fd\n",
    "    - Number of observations: 800,000+ (Will extract only data from SD)\n",
    "    - This dataset includes 2013, 2014 model-based small area estimates for 27 measures, from 500 cities in the US, of chronic disease related to unhealthy behaviors, health outcomes, and use of preventive services. \n",
    "We will use the name of the city where each disease occurs and it’s respective geolocation from our first data set and the zip code and annual income in our second data set to merge the two data frames. This would match each zip code and frequency of occurring diseases with their respective annual income. "
   ]
  },
  {
   "cell_type": "markdown",
   "metadata": {},
   "source": [
    "### Background & Prior Work\n",
    "\n",
    "Why is this question of interest, what background information led you to your hypothesis, and why is this important?\n",
    "\n",
    "Find some relevant prior work, and reference them. Even if you think you have a totally novel question, find the most similar prior work you can, and discuss how it relates to your project. \n",
    "\n",
    "References can be research publications, but they need not be: blogs, github repositories, company websites, etc., are viable references if they are relevant to your project.\n",
    "\n",
    "(2-3 paragraphs, including at least 2 references)"
   ]
  },
  {
   "cell_type": "markdown",
   "metadata": {},
   "source": [
    "Disease is something that has affected all of us either personally or to people close to us. One of the biggest weaknesses of the current disease diagnostic system is that not enough emphasis is put on preventing illnesses. Often times diseases are treatable, but aren’t treated soon enough and thus become uncontrollable. In a data-driven world, we want to utilize what we are learning in this class to give healthcare professionals an additional way to detect and better treat certain diseases. If we can prove that there are correlations between socioeconomic statuses and certain diseases, this will allow doctors to target certain regions to catch more cases of the diseases early on. \n",
    "Similar work has been done in trying to understand the relationship between certain diseases and how it is dealt with in poverty-stricken areas. One particular study done in 2015 looked at Cutaneous Leishmaniasis, a notable “poverty-associated” diseases, and how it controlled among patients of different socioeconomic statuses. The study gathered its data by working with the patients at a dermatology clinic at Imam Reza Hospital. The patients were classified as low, medium, or high socioeconomic status and then received treatment for the disease for the following year. It was concluded that a year later, poverty did in fact seem to prolong the course of the disease. \n",
    "Another study looked at the relationship between socioeconomic status and the presence of cardiovascular diseases in a retirement community in Shanghai. Factors like educational level, marital status, annual income, and so on were taken into account. Using a logistical regression model, it was seen if socioeconomic factors were in any way correlated to increase chances of heart issues. However, the conclusion for this study was that there was no direct correlation between the two and that different socioeconomic groups would have different intervention plans because each group exhibited different risks.\n",
    "\n",
    "Referencess (include a link):\n",
    "- 1) https://www.ncbi.nlm.nih.gov/pubmed/25775662\n",
    "- 2) https://www.ncbi.nlm.nih.gov/pubmed/25059355"
   ]
  },
  {
   "cell_type": "markdown",
   "metadata": {},
   "source": [
    "### Proposed Methods\n",
    "\n",
    "What methods will you use to analyze your data?\n",
    "\n",
    "- How 'clean' is the data? To the extent that it requires cleaning, how will you do so?\n",
    "- How will you analyze the data? Be as specific as you can. Briefly mention any pre-processing steps that are required for your methods (for example, checking data distributions and performing any transformations that may be required). Include a brief outline of how you will apply your chosen method(s). \n",
    "- What do you plan to report? Briefly mention any key visualizations you plan to create, and/or the kind of result you will be able to report that addresses your question (this could be, for example, the outcome of some statistical test(s), prediction error on a model, a model fit parameter, etc.).\n",
    "- Include a list of packages you expect to use for you project. If you plan to use packages we have not used in class, add a very brief description about them (a few words is sufficient). "
   ]
  },
  {
   "cell_type": "markdown",
   "metadata": {},
   "source": [
    "*Fill in your proposed methods information here:*\n",
    "\n",
    "*Data Cleaning (2-3 sentences)*\n",
    "\n",
    "Since our first data set contains observations from 500 cities across the U.S. we will first need to match each city with it’s respective zip codes and extract only zip codes that are located in San Diego County. We will then scrub our data to only include diseases which are a result of “health outcomes” which are the actual occurrences of the disease and merge our two data sets to match diseases occurring in geographic location to average annual income of that given location. \n",
    "\n",
    "*Data Analysis (1-2 paragraphs)*\n",
    "\n",
    "We will look at the distribution of diseases compared to average annual income levels for each zip code. We will first calculate the average income for each zip code in San Diego County since the data set displays the average income by different types of tax returns filed (head of household, single etc) then compare it with diseases prevalent in each of the zip codes. Another thing we need to take into consideration is the large amount of data in our cities data set and specifically look at just the 2014 data in order to match it with our zip code data set. We will apply the method of Ordinary Least Squares to find the best fit for the data, assisting us in removing potential outliers diseases from our scrubbed data.\n",
    "\n",
    "*What to report (2-3 sentences)*\n",
    "\n",
    "We will report our findings using different visualizations such as a chord diagram and scatter plots to represent any possible correlations between our variables. We will also use a stacked bar graph or histogram to represent how common diseases are in a certain income level. The bars’ height will help compare the differences between different income levels’ common diseases. Our findings will be limited to about 3-5 diseases and the distributions of their frequency based on income.\n",
    "\n",
    "Packages we plan to use:\n",
    "- NumPy\n",
    "- Pandas\n",
    "- Matplotlib\n",
    "- SciPy\n"
   ]
  },
  {
   "cell_type": "markdown",
   "metadata": {},
   "source": [
    "### Discussion\n",
    "\n",
    "What are the pitfalls and potential confounds of your data and/or methods? For example, how might biases in your data sources or analyses influence your interpretations? What will you do if you methods don't work and/or your hypotheses are wrong?\n",
    "\n",
    "(2-3 paragraphs)"
   ]
  },
  {
   "cell_type": "markdown",
   "metadata": {},
   "source": [
    "   There are a lot of biases and pitfalls to keep an eye out for in our data. The first bias we will have to watch out for is the ‘confirmation bias’, or our team’s personal desire to try and prove our hypothesis to be correct. In a situation where you have so much freedom over how to clean and analyze the given dataset, we may aspire to try and draw conclusions that support our initial postulate. Outliers can also have a significant effect on how we interpret our data’s average and range, but this can be mitigated if we carefully clean out all the ‘bad’ data using methods mentioned in the ‘Proposed Methods’ section. However, you have to be careful to distinguish whether those outliers are actually bad cases or valid extreme data because you may have occurrences of diseases in seemingly random situations. In the case of our data, we may encounter ‘Simpson’s Paradox’: the theory that a trend in different groups of data disappears or even reverses when the groups of data are combined. This is particularly important in our case because we are looking at diseases not only from a geographic standpoint, but also from a socioeconomic perspective. Once we do the analysis and identify trends in each of these groups of data we may attempt to draw further conclusions by combining the two sets, during which there is a very real possibility that the correlations we saw no longer hold true. Throughout all of our analysis, we as data scientists, must be especially cognizant of ‘overfitting’ or ‘underfitting’ the data we have. We want to draw accurate conclusions, but we must recognize that this is a tremendously large amount of data (disease statistics from over 500 major cities in America). We have to be careful not to get too caught up in every little detail and focus on maintaining a broader scope. \n",
    "    \n",
    "   If our hypothesis is not proven the way we would have hoped, we will continue to diligently analyze the data in hopes of finding some other correlation that we may not have considered. One of the big reasons we are looking at diseases is that there definitely have been established patterns in the past research we have looked at. Most diseases originate from some unhealthy human behavior and thus we may spend time looking at some of the other parameters of the dataset that we may have initially ignored. However, if even looking at our data in a different light doesn’t yield any results, then we will report the results that we found, explain what we felt went wrong with our proposition, and provide any additional information that we believe is of use. As for the proposed methods going wrong, that is a bit easier of a problem to fix. We can simply change what methods we are using if we feel that the ones we initially thought were going to be good don’t pan out the way we would have hoped. For example, we may go back and change age range or bring back variables we thought weren’t important. A large part of this analysis we will be doing is adapting to the results we get and trying to formulate the most meaningful conclusions possible. Our ultimate goal for this assignment is to be able to provide doctors and healthcare professionals with correlations they may not have considered so we will strive to do that in any way possible."
   ]
  },
  {
   "cell_type": "code",
   "execution_count": null,
   "metadata": {
    "collapsed": true
   },
   "outputs": [],
   "source": []
  }
 ],
 "metadata": {
  "kernelspec": {
   "display_name": "Python 3",
   "language": "python",
   "name": "python3"
  },
  "language_info": {
   "codemirror_mode": {
    "name": "ipython",
    "version": 3
   },
   "file_extension": ".py",
   "mimetype": "text/x-python",
   "name": "python",
   "nbconvert_exporter": "python",
   "pygments_lexer": "ipython3",
   "version": "3.6.0"
  }
 },
 "nbformat": 4,
 "nbformat_minor": 2
}
